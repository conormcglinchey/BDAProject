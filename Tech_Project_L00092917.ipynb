{
  "nbformat": 4,
  "nbformat_minor": 0,
  "metadata": {
    "colab": {
      "name": "Tech Project_L00092917.ipynb",
      "provenance": [],
      "collapsed_sections": []
    },
    "kernelspec": {
      "name": "python3",
      "display_name": "Python 3"
    }
  },
  "cells": [
    {
      "cell_type": "markdown",
      "metadata": {
        "id": "ZTOCJX6_rU1F"
      },
      "source": [
        "# Loading Packages"
      ]
    },
    {
      "cell_type": "code",
      "metadata": {
        "id": "V4uqVX5PcBU4",
        "colab": {
          "base_uri": "https://localhost:8080/"
        },
        "outputId": "31817460-9131-46f3-914a-f02f1bdf1987"
      },
      "source": [
        "!pip install pyspark\r\n",
        "import pandas as pd\r\n",
        "from pyspark.sql import SparkSession\r\n",
        "import matplotlib.pyplot as plt\r\n",
        "import seaborn as sns\r\n",
        "import numpy as np "
      ],
      "execution_count": null,
      "outputs": [
        {
          "output_type": "stream",
          "text": [
            "Collecting pyspark\n",
            "\u001b[?25l  Downloading https://files.pythonhosted.org/packages/27/67/5158f846202d7f012d1c9ca21c3549a58fd3c6707ae8ee823adcaca6473c/pyspark-3.0.2.tar.gz (204.8MB)\n",
            "\u001b[K     |████████████████████████████████| 204.8MB 62kB/s \n",
            "\u001b[?25hCollecting py4j==0.10.9\n",
            "\u001b[?25l  Downloading https://files.pythonhosted.org/packages/9e/b6/6a4fb90cd235dc8e265a6a2067f2a2c99f0d91787f06aca4bcf7c23f3f80/py4j-0.10.9-py2.py3-none-any.whl (198kB)\n",
            "\u001b[K     |████████████████████████████████| 204kB 15.9MB/s \n",
            "\u001b[?25hBuilding wheels for collected packages: pyspark\n",
            "  Building wheel for pyspark (setup.py) ... \u001b[?25l\u001b[?25hdone\n",
            "  Created wheel for pyspark: filename=pyspark-3.0.2-py2.py3-none-any.whl size=205186687 sha256=6bfa6f11070d32c3a74d4ea0278b33dbaaff66594e5c861bfd35e013480981ae\n",
            "  Stored in directory: /root/.cache/pip/wheels/8b/09/da/c1f2859bcc86375dc972c5b6af4881b3603269bcc4c9be5d16\n",
            "Successfully built pyspark\n",
            "Installing collected packages: py4j, pyspark\n",
            "Successfully installed py4j-0.10.9 pyspark-3.0.2\n"
          ],
          "name": "stdout"
        }
      ]
    },
    {
      "cell_type": "markdown",
      "metadata": {
        "id": "orz-OTaiFR8_"
      },
      "source": [
        "# Load Data\r\n",
        "Data read into the following data frames:"
      ]
    },
    {
      "cell_type": "code",
      "metadata": {
        "id": "uEnuGRiuvrWQ"
      },
      "source": [
        "# Create spark session\r\n",
        "from pyspark.sql import SparkSession\r\n",
        "spark = SparkSession.builder.appName('abc').getOrCreate()\r\n",
        "\r\n",
        "# load art_coverage_by_country_clean into spark\r\n",
        "url_artCoverageByCountry = \"https://raw.githubusercontent.com/conormcglinchey/BDA-Project/main/art_coverage_by_country_clean.csv\"\r\n",
        "from pyspark import SparkFiles\r\n",
        "spark.sparkContext.addFile(url_artCoverageByCountry)\r\n",
        "artCoverageByCountry_df = spark.read.csv(\"file://\"+SparkFiles.get(\"art_coverage_by_country_clean.csv\"), header=True, inferSchema= True)"
      ],
      "execution_count": null,
      "outputs": []
    },
    {
      "cell_type": "code",
      "metadata": {
        "id": "sRCNz87myHFz"
      },
      "source": [
        "# load art_pediatric_coverage_by_country_clean into spark\r\n",
        "url_artPediatricCoverage = \"https://raw.githubusercontent.com/conormcglinchey/BDA-Project/main/art_pediatric_coverage_by_country_clean.csv\"\r\n",
        "from pyspark import SparkFiles\r\n",
        "spark.sparkContext.addFile(url_artPediatricCoverage)\r\n",
        "artPediatricCoverage_df = spark.read.csv(\"file://\"+SparkFiles.get(\"art_pediatric_coverage_by_country_clean.csv\"), header=True, inferSchema= True)"
      ],
      "execution_count": null,
      "outputs": []
    },
    {
      "cell_type": "code",
      "metadata": {
        "id": "8AM2triRyS2x"
      },
      "source": [
        "# load no_of_cases_adults_15_to_49_by_country_clean into spark\r\n",
        "url_casesByAgeCountry = \"https://raw.githubusercontent.com/conormcglinchey/BDA-Project/main/no_of_cases_adults_15_to_49_by_country_clean.csv\"\r\n",
        "from pyspark import SparkFiles\r\n",
        "spark.sparkContext.addFile(url_casesByAgeCountry)\r\n",
        "casesByAgeCountry_df = spark.read.csv(\"file://\"+SparkFiles.get(\"no_of_cases_adults_15_to_49_by_country_clean.csv\"), header=True, inferSchema= True)"
      ],
      "execution_count": null,
      "outputs": []
    },
    {
      "cell_type": "code",
      "metadata": {
        "id": "e0CsXIAZyeyO"
      },
      "source": [
        "# load no_of_deaths_by_country_clean into spark\r\n",
        "url_deathsByCountry = \"https://raw.githubusercontent.com/conormcglinchey/BDA-Project/main/no_of_deaths_by_country_clean.csv\"\r\n",
        "from pyspark import SparkFiles\r\n",
        "spark.sparkContext.addFile(url_deathsByCountry)\r\n",
        "deathsByCountry = spark.read.csv(\"file://\"+SparkFiles.get(\"no_of_deaths_by_country_clean.csv\"), header=True, inferSchema= True)"
      ],
      "execution_count": null,
      "outputs": []
    },
    {
      "cell_type": "code",
      "metadata": {
        "id": "IR7ms4riyrzL"
      },
      "source": [
        "# load no_of_people_living_with_hiv_by_country_clean into spark\r\n",
        "url_hivCasesByCountry = \"https://raw.githubusercontent.com/conormcglinchey/BDA-Project/main/no_of_people_living_with_hiv_by_country_clean.csv\"\r\n",
        "from pyspark import SparkFiles\r\n",
        "spark.sparkContext.addFile(url_hivCasesByCountry)\r\n",
        "hivCasesByCountry_df = spark.read.csv(\"file://\"+SparkFiles.get(\"no_of_people_living_with_hiv_by_country_clean.csv\"), header=True, inferSchema= True)"
      ],
      "execution_count": null,
      "outputs": []
    },
    {
      "cell_type": "code",
      "metadata": {
        "id": "hw7ZKGCby2e7"
      },
      "source": [
        "# load prevention_of_mother_to_child_transmission_by_country_clean into spark\r\n",
        "url_childTransmissionByCountry = \"https://raw.githubusercontent.com/conormcglinchey/BDA-Project/main/prevention_of_mother_to_child_transmission_by_country_clean.csv\"\r\n",
        "from pyspark import SparkFiles\r\n",
        "spark.sparkContext.addFile(url_childTransmissionByCountry)\r\n",
        "childTransmissionByCountry_df = spark.read.csv(\"file://\"+SparkFiles.get(\"prevention_of_mother_to_child_transmission_by_country_clean.csv\"), header=True, inferSchema= True)"
      ],
      "execution_count": null,
      "outputs": []
    },
    {
      "cell_type": "markdown",
      "metadata": {
        "id": "yvfMG9qCWvbo"
      },
      "source": [
        "Print out newly created dataframes"
      ]
    },
    {
      "cell_type": "code",
      "metadata": {
        "colab": {
          "base_uri": "https://localhost:8080/"
        },
        "id": "k0QabRiZR1pS",
        "outputId": "29d3e708-5173-4f37-fbc8-a59452362979"
      },
      "source": [
        "artCoverageByCountry_df.head(5)"
      ],
      "execution_count": null,
      "outputs": [
        {
          "output_type": "execute_result",
          "data": {
            "text/plain": [
              "[Row(Country='Afghanistan', Reported number of people receiving ART='920', Estimated number of people living with HIV='7200[4100–11000]', Estimated ART coverage among people living with HIV (%)='13[7–20]', Estimated number of people living with HIV_median=7200, Estimated number of people living with HIV_min=4100, Estimated number of people living with HIV_max=11000, Estimated ART coverage among people living with HIV (%)_median=13, Estimated ART coverage among people living with HIV (%)_min=7, Estimated ART coverage among people living with HIV (%)_max=20, WHO Region='Eastern Mediterranean'),\n",
              " Row(Country='Albania', Reported number of people receiving ART='580', Estimated number of people living with HIV='Nodata', Estimated ART coverage among people living with HIV (%)='Nodata', Estimated number of people living with HIV_median=None, Estimated number of people living with HIV_min=None, Estimated number of people living with HIV_max=None, Estimated ART coverage among people living with HIV (%)_median=None, Estimated ART coverage among people living with HIV (%)_min=None, Estimated ART coverage among people living with HIV (%)_max=None, WHO Region='Europe'),\n",
              " Row(Country='Algeria', Reported number of people receiving ART='12800', Estimated number of people living with HIV='16000[15000–17000]', Estimated ART coverage among people living with HIV (%)='81[75–86]', Estimated number of people living with HIV_median=16000, Estimated number of people living with HIV_min=15000, Estimated number of people living with HIV_max=17000, Estimated ART coverage among people living with HIV (%)_median=81, Estimated ART coverage among people living with HIV (%)_min=75, Estimated ART coverage among people living with HIV (%)_max=86, WHO Region='Africa'),\n",
              " Row(Country='Angola', Reported number of people receiving ART='88700', Estimated number of people living with HIV='330000[290000–390000]', Estimated ART coverage among people living with HIV (%)='27[23–31]', Estimated number of people living with HIV_median=330000, Estimated number of people living with HIV_min=290000, Estimated number of people living with HIV_max=390000, Estimated ART coverage among people living with HIV (%)_median=27, Estimated ART coverage among people living with HIV (%)_min=23, Estimated ART coverage among people living with HIV (%)_max=31, WHO Region='Africa'),\n",
              " Row(Country='Argentina', Reported number of people receiving ART='85500', Estimated number of people living with HIV='140000[130000–150000]', Estimated ART coverage among people living with HIV (%)='61[55–67]', Estimated number of people living with HIV_median=140000, Estimated number of people living with HIV_min=130000, Estimated number of people living with HIV_max=150000, Estimated ART coverage among people living with HIV (%)_median=61, Estimated ART coverage among people living with HIV (%)_min=55, Estimated ART coverage among people living with HIV (%)_max=67, WHO Region='Americas')]"
            ]
          },
          "metadata": {
            "tags": []
          },
          "execution_count": 8
        }
      ]
    },
    {
      "cell_type": "code",
      "metadata": {
        "colab": {
          "base_uri": "https://localhost:8080/"
        },
        "id": "yWLjeg1yR-xi",
        "outputId": "d19687de-6001-4333-aa6a-8b983bf44ff3"
      },
      "source": [
        "artPediatricCoverage_df.head(5)"
      ],
      "execution_count": null,
      "outputs": [
        {
          "output_type": "execute_result",
          "data": {
            "text/plain": [
              "[Row(Country='Afghanistan', Reported number of children receiving ART='60', Estimated number of children needing ART based on WHO methods='500[500-530]', Estimated ART coverage among children (%)='17[10-26]', Estimated number of children needing ART based on WHO methods_median=500, Estimated number of children needing ART based on WHO methods_min=500, Estimated number of children needing ART based on WHO methods_max=530, Estimated ART coverage among children (%)_median=17, Estimated ART coverage among children (%)_min=10, Estimated ART coverage among children (%)_max=26, WHO Region='Eastern Mediterranean'),\n",
              " Row(Country='Albania', Reported number of children receiving ART='20', Estimated number of children needing ART based on WHO methods='Nodata', Estimated ART coverage among children (%)='Nodata', Estimated number of children needing ART based on WHO methods_median=None, Estimated number of children needing ART based on WHO methods_min=None, Estimated number of children needing ART based on WHO methods_max=None, Estimated ART coverage among children (%)_median=None, Estimated ART coverage among children (%)_min=None, Estimated ART coverage among children (%)_max=None, WHO Region='Europe'),\n",
              " Row(Country='Algeria', Reported number of children receiving ART='770', Estimated number of children needing ART based on WHO methods='500[500-520]', Estimated ART coverage among children (%)='95[95-95]', Estimated number of children needing ART based on WHO methods_median=500, Estimated number of children needing ART based on WHO methods_min=500, Estimated number of children needing ART based on WHO methods_max=520, Estimated ART coverage among children (%)_median=95, Estimated ART coverage among children (%)_min=95, Estimated ART coverage among children (%)_max=95, WHO Region='Africa'),\n",
              " Row(Country='Angola', Reported number of children receiving ART='4800', Estimated number of children needing ART based on WHO methods='38000[30000-47000]', Estimated ART coverage among children (%)='13[10-16]', Estimated number of children needing ART based on WHO methods_median=38000, Estimated number of children needing ART based on WHO methods_min=30000, Estimated number of children needing ART based on WHO methods_max=47000, Estimated ART coverage among children (%)_median=13, Estimated ART coverage among children (%)_min=10, Estimated ART coverage among children (%)_max=16, WHO Region='Africa'),\n",
              " Row(Country='Argentina', Reported number of children receiving ART='1700', Estimated number of children needing ART based on WHO methods='1800[1600-2100]', Estimated ART coverage among children (%)='92[84-95]', Estimated number of children needing ART based on WHO methods_median=1800, Estimated number of children needing ART based on WHO methods_min=1600, Estimated number of children needing ART based on WHO methods_max=2100, Estimated ART coverage among children (%)_median=92, Estimated ART coverage among children (%)_min=84, Estimated ART coverage among children (%)_max=95, WHO Region='Americas')]"
            ]
          },
          "metadata": {
            "tags": []
          },
          "execution_count": 9
        }
      ]
    },
    {
      "cell_type": "code",
      "metadata": {
        "colab": {
          "base_uri": "https://localhost:8080/"
        },
        "id": "2VyOwRWvSM99",
        "outputId": "7558f76a-9484-4060-9eea-6e0b19b9a9b9"
      },
      "source": [
        "casesByAgeCountry_df.head(5)"
      ],
      "execution_count": null,
      "outputs": [
        {
          "output_type": "execute_result",
          "data": {
            "text/plain": [
              "[Row(Country='Afghanistan', Year=2018.0, Count='0.1[0.1–0.1]', Count_median=0.1, Count_min=0.1, Count_max=0.1, WHO Region='Eastern Mediterranean'),\n",
              " Row(Country='Albania', Year=2018.0, Count='na', Count_median=None, Count_min=None, Count_max=None, WHO Region='Europe'),\n",
              " Row(Country='Algeria', Year=2018.0, Count='0.1[0.1–0.1]', Count_median=0.1, Count_min=0.1, Count_max=0.1, WHO Region='Africa'),\n",
              " Row(Country='Angola', Year=2018.0, Count='2.0[1.7–2.3]', Count_median=2.0, Count_min=1.7, Count_max=2.3, WHO Region='Africa'),\n",
              " Row(Country='Argentina', Year=2018.0, Count='0.4[0.4–0.4]', Count_median=0.4, Count_min=0.4, Count_max=0.4, WHO Region='Americas')]"
            ]
          },
          "metadata": {
            "tags": []
          },
          "execution_count": 10
        }
      ]
    },
    {
      "cell_type": "code",
      "metadata": {
        "colab": {
          "base_uri": "https://localhost:8080/"
        },
        "id": "GB6837H3SQtj",
        "outputId": "2e71a3a1-f57f-4573-d949-b8b6cc2f43a7"
      },
      "source": [
        "deathsByCountry.head(5)"
      ],
      "execution_count": null,
      "outputs": [
        {
          "output_type": "execute_result",
          "data": {
            "text/plain": [
              "[Row(Country='Afghanistan', Year=2018.0, Count='500[200–610]', Count_median=500, Count_min=200, Count_max=610, WHO Region='Eastern Mediterranean'),\n",
              " Row(Country='Albania', Year=2018.0, Count='na', Count_median=None, Count_min=None, Count_max=None, WHO Region='Europe'),\n",
              " Row(Country='Algeria', Year=2018.0, Count='200[200–200]', Count_median=200, Count_min=200, Count_max=200, WHO Region='Africa'),\n",
              " Row(Country='Angola', Year=2018.0, Count='14000[9500–18000]', Count_median=14000, Count_min=9500, Count_max=18000, WHO Region='Africa'),\n",
              " Row(Country='Argentina', Year=2018.0, Count='1700[1300–2100]', Count_median=1700, Count_min=1300, Count_max=2100, WHO Region='Americas')]"
            ]
          },
          "metadata": {
            "tags": []
          },
          "execution_count": 11
        }
      ]
    },
    {
      "cell_type": "code",
      "metadata": {
        "colab": {
          "base_uri": "https://localhost:8080/"
        },
        "id": "zYJRnRTnSddW",
        "outputId": "e3f0bae6-7f12-4039-d1df-924067c0c7e3"
      },
      "source": [
        "hivCasesByCountry_df.head(5)"
      ],
      "execution_count": null,
      "outputs": [
        {
          "output_type": "execute_result",
          "data": {
            "text/plain": [
              "[Row(Country='Afghanistan', Year=2018.0, Count='7200[4100–11000]', Count_median=7200, Count_min=4100, Count_max=11000, WHO Region='Eastern Mediterranean'),\n",
              " Row(Country='Albania', Year=2018.0, Count='na', Count_median=None, Count_min=None, Count_max=None, WHO Region='Europe'),\n",
              " Row(Country='Algeria', Year=2018.0, Count='16000[15000–17000]', Count_median=16000, Count_min=15000, Count_max=17000, WHO Region='Africa'),\n",
              " Row(Country='Angola', Year=2018.0, Count='330000[290000–390000]', Count_median=330000, Count_min=290000, Count_max=390000, WHO Region='Africa'),\n",
              " Row(Country='Argentina', Year=2018.0, Count='140000[130000–150000]', Count_median=140000, Count_min=130000, Count_max=150000, WHO Region='Americas')]"
            ]
          },
          "metadata": {
            "tags": []
          },
          "execution_count": 12
        }
      ]
    },
    {
      "cell_type": "code",
      "metadata": {
        "colab": {
          "base_uri": "https://localhost:8080/"
        },
        "id": "3wjR3-2JSmix",
        "outputId": "6c3d33b3-85bd-4e07-845c-a39b583ee2cc"
      },
      "source": [
        "childTransmissionByCountry_df.head(5)"
      ],
      "execution_count": null,
      "outputs": [
        {
          "output_type": "execute_result",
          "data": {
            "text/plain": [
              "[Row(Country='Afghanistan', Received Antiretrovirals='20', Needing antiretrovirals='200[100–500]', Percentage Recieved='11[7–18]', Needing antiretrovirals_median=200, Needing antiretrovirals_min=100, Needing antiretrovirals_max=500, Percentage Recieved_median=11, Percentage Recieved_min=7, Percentage Recieved_max=18, WHO Region='Eastern Mediterranean'),\n",
              " Row(Country='Albania', Received Antiretrovirals='No data', Needing antiretrovirals='Nodata', Percentage Recieved='Nodata', Needing antiretrovirals_median=None, Needing antiretrovirals_min=None, Needing antiretrovirals_max=None, Percentage Recieved_median=None, Percentage Recieved_min=None, Percentage Recieved_max=None, WHO Region='Europe'),\n",
              " Row(Country='Algeria', Received Antiretrovirals='320', Needing antiretrovirals='500[500–500]', Percentage Recieved='74[69–78]', Needing antiretrovirals_median=500, Needing antiretrovirals_min=500, Needing antiretrovirals_max=500, Percentage Recieved_median=74, Percentage Recieved_min=69, Percentage Recieved_max=78, WHO Region='Africa'),\n",
              " Row(Country='Angola', Received Antiretrovirals='9600', Needing antiretrovirals='25000[19000–32000]', Percentage Recieved='38[29–48]', Needing antiretrovirals_median=25000, Needing antiretrovirals_min=19000, Needing antiretrovirals_max=32000, Percentage Recieved_median=38, Percentage Recieved_min=29, Percentage Recieved_max=48, WHO Region='Africa'),\n",
              " Row(Country='Argentina', Received Antiretrovirals='1800', Needing antiretrovirals='1800[1600–2000]', Percentage Recieved='95[85–95]', Needing antiretrovirals_median=1800, Needing antiretrovirals_min=1600, Needing antiretrovirals_max=2000, Percentage Recieved_median=95, Percentage Recieved_min=85, Percentage Recieved_max=95, WHO Region='Americas')]"
            ]
          },
          "metadata": {
            "tags": []
          },
          "execution_count": 13
        }
      ]
    },
    {
      "cell_type": "markdown",
      "metadata": {
        "id": "jtqBRQQDFUHv"
      },
      "source": [
        "# Cleanse Data"
      ]
    },
    {
      "cell_type": "markdown",
      "metadata": {
        "id": "5HvxCZNxSats"
      },
      "source": [
        "Join relevant dataframes together in order to proceed to data analysis"
      ]
    },
    {
      "cell_type": "code",
      "metadata": {
        "colab": {
          "base_uri": "https://localhost:8080/",
          "height": 54
        },
        "id": "3BEsUT_uSls9",
        "outputId": "bf99ecb8-3fa7-4cc8-9044-88930aef46ed"
      },
      "source": [
        "# first join - deathsByCountry and hivCasesByCountry_df\r\n",
        "combined_data_1 = deathsByCountry.join(hivCasesByCountry_df, deathsByCountry['Country'] == hivCasesByCountry_df['Country']).drop(hivCasesByCountry_df['WHO Region'])\r\n",
        "display(combined_data_1)"
      ],
      "execution_count": null,
      "outputs": [
        {
          "output_type": "display_data",
          "data": {
            "text/plain": [
              "DataFrame[Country: string, Year: double, Count: string, Count_median: int, Count_min: int, Count_max: int, WHO Region: string, Country: string, Year: double, Count: string, Count_median: int, Count_min: int, Count_max: int]"
            ]
          },
          "metadata": {
            "tags": []
          }
        }
      ]
    },
    {
      "cell_type": "code",
      "metadata": {
        "colab": {
          "base_uri": "https://localhost:8080/"
        },
        "id": "gSywKqUurkSr",
        "outputId": "cbd3b8c2-1316-475f-b647-6dfa7f8457d3"
      },
      "source": [
        "# print out schema of newly created combined_data_1 - this shows that the above combining of dataframes work successfully \r\n",
        "combined_data_1.printSchema()"
      ],
      "execution_count": null,
      "outputs": [
        {
          "output_type": "stream",
          "text": [
            "root\n",
            " |-- Country: string (nullable = true)\n",
            " |-- Year: double (nullable = true)\n",
            " |-- Count: string (nullable = true)\n",
            " |-- Count_median: integer (nullable = true)\n",
            " |-- Count_min: integer (nullable = true)\n",
            " |-- Count_max: integer (nullable = true)\n",
            " |-- WHO Region: string (nullable = true)\n",
            " |-- Country: string (nullable = true)\n",
            " |-- Year: double (nullable = true)\n",
            " |-- Count: string (nullable = true)\n",
            " |-- Count_median: integer (nullable = true)\n",
            " |-- Count_min: integer (nullable = true)\n",
            " |-- Count_max: integer (nullable = true)\n",
            "\n"
          ],
          "name": "stdout"
        }
      ]
    },
    {
      "cell_type": "code",
      "metadata": {
        "id": "xaCepSlRBANO",
        "colab": {
          "base_uri": "https://localhost:8080/"
        },
        "outputId": "7eeea582-96b3-498e-d06e-a1432b2a9aef"
      },
      "source": [
        "# remove duplicated rows from combined_data_1 dataframe.\r\n",
        "combined_data_1.dropDuplicates()"
      ],
      "execution_count": null,
      "outputs": [
        {
          "output_type": "execute_result",
          "data": {
            "text/plain": [
              "DataFrame[Country: string, Year: double, Count: string, Count_median: int, Count_min: int, Count_max: int, WHO Region: string, Country: string, Year: double, Count: string, Count_median: int, Count_min: int, Count_max: int]"
            ]
          },
          "metadata": {
            "tags": []
          },
          "execution_count": 16
        }
      ]
    },
    {
      "cell_type": "code",
      "metadata": {
        "colab": {
          "base_uri": "https://localhost:8080/"
        },
        "id": "g7YppmO-KKWz",
        "outputId": "910c8c57-8a45-4801-b601-2846a784b125"
      },
      "source": [
        "# show results\r\n",
        "combined_data_1.show()"
      ],
      "execution_count": null,
      "outputs": [
        {
          "output_type": "stream",
          "text": [
            "+-----------+------+-----------------+------------+---------+---------+--------------------+-----------+------+--------------------+------------+---------+---------+\n",
            "|    Country|  Year|            Count|Count_median|Count_min|Count_max|          WHO Region|    Country|  Year|               Count|Count_median|Count_min|Count_max|\n",
            "+-----------+------+-----------------+------------+---------+---------+--------------------+-----------+------+--------------------+------------+---------+---------+\n",
            "|Afghanistan|2000.0|     100[100–500]|         100|      100|      500|Eastern Mediterra...|Afghanistan|2018.0|    7200[4100–11000]|        7200|     4100|    11000|\n",
            "|Afghanistan|2010.0|     500[200–500]|         500|      200|      500|Eastern Mediterra...|Afghanistan|2018.0|    7200[4100–11000]|        7200|     4100|    11000|\n",
            "|Afghanistan|2018.0|     500[200–610]|         500|      200|      610|Eastern Mediterra...|Afghanistan|2018.0|    7200[4100–11000]|        7200|     4100|    11000|\n",
            "|    Albania|2000.0|               na|        null|     null|     null|              Europe|    Albania|2018.0|                  na|        null|     null|     null|\n",
            "|    Albania|2010.0|               na|        null|     null|     null|              Europe|    Albania|2018.0|                  na|        null|     null|     null|\n",
            "|    Albania|2018.0|               na|        null|     null|     null|              Europe|    Albania|2018.0|                  na|        null|     null|     null|\n",
            "|    Algeria|2000.0|     100[100–100]|         100|      100|      100|              Africa|    Algeria|2018.0|  16000[15000–17000]|       16000|    15000|    17000|\n",
            "|    Algeria|2010.0|     200[100–200]|         200|      100|      200|              Africa|    Algeria|2018.0|  16000[15000–17000]|       16000|    15000|    17000|\n",
            "|    Algeria|2018.0|     200[200–200]|         200|      200|      200|              Africa|    Algeria|2018.0|  16000[15000–17000]|       16000|    15000|    17000|\n",
            "|     Angola|2000.0|  4800[3500–6400]|        4800|     3500|     6400|              Africa|     Angola|2018.0|330000[290000–390...|      330000|   290000|   390000|\n",
            "|     Angola|2010.0|10000[7300–13000]|       10000|     7300|    13000|              Africa|     Angola|2018.0|330000[290000–390...|      330000|   290000|   390000|\n",
            "|     Angola|2018.0|14000[9500–18000]|       14000|     9500|    18000|              Africa|     Angola|2018.0|330000[290000–390...|      330000|   290000|   390000|\n",
            "|  Argentina|2000.0|  1400[1200–1700]|        1400|     1200|     1700|            Americas|  Argentina|2018.0|140000[130000–150...|      140000|   130000|   150000|\n",
            "|  Argentina|2010.0|  1600[1300–2000]|        1600|     1300|     2000|            Americas|  Argentina|2018.0|140000[130000–150...|      140000|   130000|   150000|\n",
            "|  Argentina|2018.0|  1700[1300–2100]|        1700|     1300|     2100|            Americas|  Argentina|2018.0|140000[130000–150...|      140000|   130000|   150000|\n",
            "|    Armenia|2000.0|     100[100–100]|         100|      100|      100|              Europe|    Armenia|2018.0|     3500[3000–4400]|        3500|     3000|     4400|\n",
            "|    Armenia|2010.0|     200[200–200]|         200|      200|      200|              Europe|    Armenia|2018.0|     3500[3000–4400]|        3500|     3000|     4400|\n",
            "|    Armenia|2018.0|     200[100–200]|         200|      100|      200|              Europe|    Armenia|2018.0|     3500[3000–4400]|        3500|     3000|     4400|\n",
            "|  Australia|2000.0|     500[200–500]|         500|      200|      500|     Western Pacific|  Australia|2018.0|  28000[23000–31000]|       28000|    23000|    31000|\n",
            "|  Australia|2010.0|     500[200–500]|         500|      200|      500|     Western Pacific|  Australia|2018.0|  28000[23000–31000]|       28000|    23000|    31000|\n",
            "+-----------+------+-----------------+------------+---------+---------+--------------------+-----------+------+--------------------+------------+---------+---------+\n",
            "only showing top 20 rows\n",
            "\n"
          ],
          "name": "stdout"
        }
      ]
    },
    {
      "cell_type": "code",
      "metadata": {
        "colab": {
          "base_uri": "https://localhost:8080/",
          "height": 54
        },
        "id": "mWFvRhC9V6HH",
        "outputId": "2d7f19b4-4a3c-4191-d523-493e926cdd3e"
      },
      "source": [
        "# second join - casesByAgeCountry_df and childTransmissionByCountry_df\r\n",
        "combined_data_2 = casesByAgeCountry_df.join(childTransmissionByCountry_df, casesByAgeCountry_df['Country'] == childTransmissionByCountry_df['Country'])\r\n",
        "display(combined_data_2)"
      ],
      "execution_count": null,
      "outputs": [
        {
          "output_type": "display_data",
          "data": {
            "text/plain": [
              "DataFrame[Country: string, Year: double, Count: string, Count_median: double, Count_min: double, Count_max: double, WHO Region: string, Country: string, Received Antiretrovirals: string, Needing antiretrovirals: string, Percentage Recieved: string, Needing antiretrovirals_median: int, Needing antiretrovirals_min: int, Needing antiretrovirals_max: int, Percentage Recieved_median: int, Percentage Recieved_min: int, Percentage Recieved_max: int, WHO Region: string]"
            ]
          },
          "metadata": {
            "tags": []
          }
        }
      ]
    },
    {
      "cell_type": "code",
      "metadata": {
        "colab": {
          "base_uri": "https://localhost:8080/"
        },
        "id": "dsb2J0k3WM_m",
        "outputId": "70270f6a-519c-40d8-a238-7f8fba62190e"
      },
      "source": [
        "# print out schema of newly created combined_data_2 - this shows that the above combining of dataframes work successfully \r\n",
        "combined_data_2.printSchema()"
      ],
      "execution_count": null,
      "outputs": [
        {
          "output_type": "stream",
          "text": [
            "root\n",
            " |-- Country: string (nullable = true)\n",
            " |-- Year: double (nullable = true)\n",
            " |-- Count: string (nullable = true)\n",
            " |-- Count_median: double (nullable = true)\n",
            " |-- Count_min: double (nullable = true)\n",
            " |-- Count_max: double (nullable = true)\n",
            " |-- WHO Region: string (nullable = true)\n",
            " |-- Country: string (nullable = true)\n",
            " |-- Received Antiretrovirals: string (nullable = true)\n",
            " |-- Needing antiretrovirals: string (nullable = true)\n",
            " |-- Percentage Recieved: string (nullable = true)\n",
            " |-- Needing antiretrovirals_median: integer (nullable = true)\n",
            " |-- Needing antiretrovirals_min: integer (nullable = true)\n",
            " |-- Needing antiretrovirals_max: integer (nullable = true)\n",
            " |-- Percentage Recieved_median: integer (nullable = true)\n",
            " |-- Percentage Recieved_min: integer (nullable = true)\n",
            " |-- Percentage Recieved_max: integer (nullable = true)\n",
            " |-- WHO Region: string (nullable = true)\n",
            "\n"
          ],
          "name": "stdout"
        }
      ]
    },
    {
      "cell_type": "code",
      "metadata": {
        "colab": {
          "base_uri": "https://localhost:8080/"
        },
        "id": "bPKLrxzMWWQr",
        "outputId": "d7df6998-7270-4450-ecae-97b80759c715"
      },
      "source": [
        "# remove duplicated rows from combined_data_2 dataframe.\r\n",
        "combined_data_2.dropDuplicates()"
      ],
      "execution_count": null,
      "outputs": [
        {
          "output_type": "execute_result",
          "data": {
            "text/plain": [
              "DataFrame[Country: string, Year: double, Count: string, Count_median: double, Count_min: double, Count_max: double, WHO Region: string, Country: string, Received Antiretrovirals: string, Needing antiretrovirals: string, Percentage Recieved: string, Needing antiretrovirals_median: int, Needing antiretrovirals_min: int, Needing antiretrovirals_max: int, Percentage Recieved_median: int, Percentage Recieved_min: int, Percentage Recieved_max: int, WHO Region: string]"
            ]
          },
          "metadata": {
            "tags": []
          },
          "execution_count": 20
        }
      ]
    },
    {
      "cell_type": "code",
      "metadata": {
        "colab": {
          "base_uri": "https://localhost:8080/"
        },
        "id": "mbmVG29lWd9W",
        "outputId": "44963abe-4acb-4f87-f7d5-834629791864"
      },
      "source": [
        "# show results\r\n",
        "combined_data_2.show()"
      ],
      "execution_count": null,
      "outputs": [
        {
          "output_type": "stream",
          "text": [
            "+--------------------+------+------------+------------+---------+---------+--------------------+--------------------+------------------------+-----------------------+-------------------+------------------------------+---------------------------+---------------------------+--------------------------+-----------------------+-----------------------+--------------------+\n",
            "|             Country|  Year|       Count|Count_median|Count_min|Count_max|          WHO Region|             Country|Received Antiretrovirals|Needing antiretrovirals|Percentage Recieved|Needing antiretrovirals_median|Needing antiretrovirals_min|Needing antiretrovirals_max|Percentage Recieved_median|Percentage Recieved_min|Percentage Recieved_max|          WHO Region|\n",
            "+--------------------+------+------------+------------+---------+---------+--------------------+--------------------+------------------------+-----------------------+-------------------+------------------------------+---------------------------+---------------------------+--------------------------+-----------------------+-----------------------+--------------------+\n",
            "|         Afghanistan|2018.0|0.1[0.1–0.1]|         0.1|      0.1|      0.1|Eastern Mediterra...|         Afghanistan|                      20|           200[100–500]|           11[7–18]|                           200|                        100|                        500|                        11|                      7|                     18|Eastern Mediterra...|\n",
            "|             Albania|2018.0|          na|        null|     null|     null|              Europe|             Albania|                 No data|                 Nodata|             Nodata|                          null|                       null|                       null|                      null|                   null|                   null|              Europe|\n",
            "|             Algeria|2018.0|0.1[0.1–0.1]|         0.1|      0.1|      0.1|              Africa|             Algeria|                     320|           500[500–500]|          74[69–78]|                           500|                        500|                        500|                        74|                     69|                     78|              Africa|\n",
            "|              Angola|2018.0|2.0[1.7–2.3]|         2.0|      1.7|      2.3|              Africa|              Angola|                    9600|     25000[19000–32000]|          38[29–48]|                         25000|                      19000|                      32000|                        38|                     29|                     48|              Africa|\n",
            "|           Argentina|2018.0|0.4[0.4–0.4]|         0.4|      0.4|      0.4|            Americas|           Argentina|                    1800|        1800[1600–2000]|          95[85–95]|                          1800|                       1600|                       2000|                        95|                     85|                     95|            Americas|\n",
            "|             Armenia|2018.0|0.2[0.1–0.2]|         0.2|      0.1|      0.2|              Europe|             Armenia|                      50|                 Nodata|             Nodata|                          null|                       null|                       null|                      null|                   null|                   null|              Europe|\n",
            "|           Australia|2018.0|0.1[0.1–0.1]|         0.1|      0.1|      0.1|     Western Pacific|           Australia|                 No data|           100[100–100]|             Nodata|                           100|                        100|                        100|                      null|                   null|                   null|     Western Pacific|\n",
            "|             Austria|2018.0|          na|        null|     null|     null|              Europe|             Austria|                 No data|                 Nodata|             Nodata|                          null|                       null|                       null|                      null|                   null|                   null|              Europe|\n",
            "|          Azerbaijan|2018.0|          na|        null|     null|     null|              Europe|          Azerbaijan|                 No data|                 Nodata|             Nodata|                          null|                       null|                       null|                      null|                   null|                   null|              Europe|\n",
            "|             Bahamas|2018.0|1.8[1.5–1.9]|         1.8|      1.5|      1.9|            Americas|             Bahamas|                      50|           100[100–200]|          58[51–65]|                           100|                        100|                        200|                        58|                     51|                     65|            Americas|\n",
            "|             Bahrain|2018.0|          na|        null|     null|     null|Eastern Mediterra...|             Bahrain|                       0|                 Nodata|             Nodata|                          null|                       null|                       null|                      null|                   null|                   null|Eastern Mediterra...|\n",
            "|          Bangladesh|2018.0|0.1[0.1–0.1]|         0.1|      0.1|      0.1|     South-East Asia|          Bangladesh|                      40|           200[200–200]|          28[24–33]|                           200|                        200|                        200|                        28|                     24|                     33|     South-East Asia|\n",
            "|            Barbados|2018.0|1.5[1.3–1.7]|         1.5|      1.3|      1.7|            Americas|            Barbados|                      20|                 Nodata|             Nodata|                          null|                       null|                       null|                      null|                   null|                   null|            Americas|\n",
            "|             Belarus|2018.0|0.5[0.4–0.6]|         0.5|      0.4|      0.6|              Europe|             Belarus|                     230|           500[200–500]|          90[67–95]|                           500|                        200|                        500|                        90|                     67|                     95|              Europe|\n",
            "|             Belgium|2018.0|          na|        null|     null|     null|              Europe|             Belgium|                 No data|                 Nodata|             Nodata|                          null|                       null|                       null|                      null|                   null|                   null|              Europe|\n",
            "|              Belize|2018.0|1.9[1.7–2.1]|         1.9|      1.7|      2.1|            Americas|              Belize|                      40|           100[100–200]|          44[39–49]|                           100|                        100|                        200|                        44|                     39|                     49|            Americas|\n",
            "|               Benin|2018.0|1.0[0.7–1.7]|         1.0|      0.7|      1.7|              Africa|               Benin|                    4600|        2600[1600–4300]|          95[95–95]|                          2600|                       1600|                       4300|                        95|                     95|                     95|              Africa|\n",
            "|              Bhutan|2018.0|0.3[0.1–0.5]|         0.3|      0.1|      0.5|     South-East Asia|              Bhutan|                 No data|                 Nodata|             Nodata|                          null|                       null|                       null|                      null|                   null|                   null|     South-East Asia|\n",
            "|Bolivia (Plurinat...|2018.0|0.3[0.3–0.3]|         0.3|      0.3|      0.3|            Americas|Bolivia (Plurinat...|                     350|           500[500–500]|          95[95–95]|                           500|                        500|                        500|                        95|                     95|                     95|            Americas|\n",
            "|Bosnia and Herzeg...|2018.0|0.1[0.1–0.1]|         0.1|      0.1|      0.1|              Europe|Bosnia and Herzeg...|                 No data|                 Nodata|             Nodata|                          null|                       null|                       null|                      null|                   null|                   null|              Europe|\n",
            "+--------------------+------+------------+------------+---------+---------+--------------------+--------------------+------------------------+-----------------------+-------------------+------------------------------+---------------------------+---------------------------+--------------------------+-----------------------+-----------------------+--------------------+\n",
            "only showing top 20 rows\n",
            "\n"
          ],
          "name": "stdout"
        }
      ]
    },
    {
      "cell_type": "code",
      "metadata": {
        "colab": {
          "base_uri": "https://localhost:8080/",
          "height": 54
        },
        "id": "Zl_3VdtJWm_m",
        "outputId": "7751a74d-8b4f-4f36-c41b-2579ca0a1274"
      },
      "source": [
        "# third join - artCoverageByCountry_df and artPediatricCoverage_df\r\n",
        "combined_data_3 = artCoverageByCountry_df.join(artPediatricCoverage_df, artCoverageByCountry_df['Country'] == artPediatricCoverage_df['Country'])\r\n",
        "display(combined_data_3)"
      ],
      "execution_count": null,
      "outputs": [
        {
          "output_type": "display_data",
          "data": {
            "text/plain": [
              "DataFrame[Country: string, Reported number of people receiving ART: string, Estimated number of people living with HIV: string, Estimated ART coverage among people living with HIV (%): string, Estimated number of people living with HIV_median: int, Estimated number of people living with HIV_min: int, Estimated number of people living with HIV_max: int, Estimated ART coverage among people living with HIV (%)_median: int, Estimated ART coverage among people living with HIV (%)_min: int, Estimated ART coverage among people living with HIV (%)_max: int, WHO Region: string, Country: string, Reported number of children receiving ART: string, Estimated number of children needing ART based on WHO methods: string, Estimated ART coverage among children (%): string, Estimated number of children needing ART based on WHO methods_median: int, Estimated number of children needing ART based on WHO methods_min: int, Estimated number of children needing ART based on WHO methods_max: int, Estimated ART coverage among children (%)_median: int, Estimated ART coverage among children (%)_min: int, Estimated ART coverage among children (%)_max: int, WHO Region: string]"
            ]
          },
          "metadata": {
            "tags": []
          }
        }
      ]
    },
    {
      "cell_type": "code",
      "metadata": {
        "colab": {
          "base_uri": "https://localhost:8080/"
        },
        "id": "lvykhoXNW2Ni",
        "outputId": "3abd8725-09cd-415e-cd8a-b91692b0a609"
      },
      "source": [
        "# print out schema of newly created combined_data_3 - this shows that the above combining of dataframes work successfully \r\n",
        "combined_data_3.printSchema()"
      ],
      "execution_count": null,
      "outputs": [
        {
          "output_type": "stream",
          "text": [
            "root\n",
            " |-- Country: string (nullable = true)\n",
            " |-- Reported number of people receiving ART: string (nullable = true)\n",
            " |-- Estimated number of people living with HIV: string (nullable = true)\n",
            " |-- Estimated ART coverage among people living with HIV (%): string (nullable = true)\n",
            " |-- Estimated number of people living with HIV_median: integer (nullable = true)\n",
            " |-- Estimated number of people living with HIV_min: integer (nullable = true)\n",
            " |-- Estimated number of people living with HIV_max: integer (nullable = true)\n",
            " |-- Estimated ART coverage among people living with HIV (%)_median: integer (nullable = true)\n",
            " |-- Estimated ART coverage among people living with HIV (%)_min: integer (nullable = true)\n",
            " |-- Estimated ART coverage among people living with HIV (%)_max: integer (nullable = true)\n",
            " |-- WHO Region: string (nullable = true)\n",
            " |-- Country: string (nullable = true)\n",
            " |-- Reported number of children receiving ART: string (nullable = true)\n",
            " |-- Estimated number of children needing ART based on WHO methods: string (nullable = true)\n",
            " |-- Estimated ART coverage among children (%): string (nullable = true)\n",
            " |-- Estimated number of children needing ART based on WHO methods_median: integer (nullable = true)\n",
            " |-- Estimated number of children needing ART based on WHO methods_min: integer (nullable = true)\n",
            " |-- Estimated number of children needing ART based on WHO methods_max: integer (nullable = true)\n",
            " |-- Estimated ART coverage among children (%)_median: integer (nullable = true)\n",
            " |-- Estimated ART coverage among children (%)_min: integer (nullable = true)\n",
            " |-- Estimated ART coverage among children (%)_max: integer (nullable = true)\n",
            " |-- WHO Region: string (nullable = true)\n",
            "\n"
          ],
          "name": "stdout"
        }
      ]
    },
    {
      "cell_type": "code",
      "metadata": {
        "colab": {
          "base_uri": "https://localhost:8080/"
        },
        "id": "o7Hcuu2eW_S3",
        "outputId": "486cdad3-60c1-4103-f5fa-1104196d7327"
      },
      "source": [
        "# remove duplicated rows from combined_data_3 dataframe.\r\n",
        "combined_data_3.dropDuplicates()"
      ],
      "execution_count": null,
      "outputs": [
        {
          "output_type": "execute_result",
          "data": {
            "text/plain": [
              "DataFrame[Country: string, Reported number of people receiving ART: string, Estimated number of people living with HIV: string, Estimated ART coverage among people living with HIV (%): string, Estimated number of people living with HIV_median: int, Estimated number of people living with HIV_min: int, Estimated number of people living with HIV_max: int, Estimated ART coverage among people living with HIV (%)_median: int, Estimated ART coverage among people living with HIV (%)_min: int, Estimated ART coverage among people living with HIV (%)_max: int, WHO Region: string, Country: string, Reported number of children receiving ART: string, Estimated number of children needing ART based on WHO methods: string, Estimated ART coverage among children (%): string, Estimated number of children needing ART based on WHO methods_median: int, Estimated number of children needing ART based on WHO methods_min: int, Estimated number of children needing ART based on WHO methods_max: int, Estimated ART coverage among children (%)_median: int, Estimated ART coverage among children (%)_min: int, Estimated ART coverage among children (%)_max: int, WHO Region: string]"
            ]
          },
          "metadata": {
            "tags": []
          },
          "execution_count": 24
        }
      ]
    },
    {
      "cell_type": "code",
      "metadata": {
        "colab": {
          "base_uri": "https://localhost:8080/"
        },
        "id": "Oiq8EYmNXCCu",
        "outputId": "9c75c3ca-2f3c-4c41-c7e7-41e8a022eff3"
      },
      "source": [
        "# show results\r\n",
        "combined_data_3.show()"
      ],
      "execution_count": null,
      "outputs": [
        {
          "output_type": "stream",
          "text": [
            "+--------------------+---------------------------------------+------------------------------------------+-------------------------------------------------------+-------------------------------------------------+----------------------------------------------+----------------------------------------------+--------------------------------------------------------------+-----------------------------------------------------------+-----------------------------------------------------------+--------------------+--------------------+-----------------------------------------+-------------------------------------------------------------+-----------------------------------------+--------------------------------------------------------------------+-----------------------------------------------------------------+-----------------------------------------------------------------+------------------------------------------------+---------------------------------------------+---------------------------------------------+--------------------+\n",
            "|             Country|Reported number of people receiving ART|Estimated number of people living with HIV|Estimated ART coverage among people living with HIV (%)|Estimated number of people living with HIV_median|Estimated number of people living with HIV_min|Estimated number of people living with HIV_max|Estimated ART coverage among people living with HIV (%)_median|Estimated ART coverage among people living with HIV (%)_min|Estimated ART coverage among people living with HIV (%)_max|          WHO Region|             Country|Reported number of children receiving ART|Estimated number of children needing ART based on WHO methods|Estimated ART coverage among children (%)|Estimated number of children needing ART based on WHO methods_median|Estimated number of children needing ART based on WHO methods_min|Estimated number of children needing ART based on WHO methods_max|Estimated ART coverage among children (%)_median|Estimated ART coverage among children (%)_min|Estimated ART coverage among children (%)_max|          WHO Region|\n",
            "+--------------------+---------------------------------------+------------------------------------------+-------------------------------------------------------+-------------------------------------------------+----------------------------------------------+----------------------------------------------+--------------------------------------------------------------+-----------------------------------------------------------+-----------------------------------------------------------+--------------------+--------------------+-----------------------------------------+-------------------------------------------------------------+-----------------------------------------+--------------------------------------------------------------------+-----------------------------------------------------------------+-----------------------------------------------------------------+------------------------------------------------+---------------------------------------------+---------------------------------------------+--------------------+\n",
            "|         Afghanistan|                                    920|                          7200[4100–11000]|                                               13[7–20]|                                             7200|                                          4100|                                         11000|                                                            13|                                                          7|                                                         20|Eastern Mediterra...|         Afghanistan|                                       60|                                                 500[500-530]|                                17[10-26]|                                                                 500|                                                              500|                                                              530|                                              17|                                           10|                                           26|Eastern Mediterra...|\n",
            "|             Albania|                                    580|                                    Nodata|                                                 Nodata|                                             null|                                          null|                                          null|                                                          null|                                                       null|                                                       null|              Europe|             Albania|                                       20|                                                       Nodata|                                   Nodata|                                                                null|                                                             null|                                                             null|                                            null|                                         null|                                         null|              Europe|\n",
            "|             Algeria|                                  12800|                        16000[15000–17000]|                                              81[75–86]|                                            16000|                                         15000|                                         17000|                                                            81|                                                         75|                                                         86|              Africa|             Algeria|                                      770|                                                 500[500-520]|                                95[95-95]|                                                                 500|                                                              500|                                                              520|                                              95|                                           95|                                           95|              Africa|\n",
            "|              Angola|                                  88700|                      330000[290000–390...|                                              27[23–31]|                                           330000|                                        290000|                                        390000|                                                            27|                                                         23|                                                         31|              Africa|              Angola|                                     4800|                                           38000[30000-47000]|                                13[10-16]|                                                               38000|                                                            30000|                                                            47000|                                              13|                                           10|                                           16|              Africa|\n",
            "|           Argentina|                                  85500|                      140000[130000–150...|                                              61[55–67]|                                           140000|                                        130000|                                        150000|                                                            61|                                                         55|                                                         67|            Americas|           Argentina|                                     1700|                                              1800[1600-2100]|                                92[84-95]|                                                                1800|                                                             1600|                                                             2100|                                              92|                                           84|                                           95|            Americas|\n",
            "|             Armenia|                                   1900|                           3500[3000–4400]|                                              53[44–65]|                                             3500|                                          3000|                                          4400|                                                            53|                                                         44|                                                         65|              Europe|             Armenia|                                  No data|                                                       Nodata|                                   Nodata|                                                                null|                                                             null|                                                             null|                                            null|                                         null|                                         null|              Europe|\n",
            "|           Australia|                                  22800|                        28000[23000–31000]|                                              83[70–93]|                                            28000|                                         23000|                                         31000|                                                            83|                                                         70|                                                         93|     Western Pacific|           Australia|                                  No data|                                                 100[100-100]|                                   Nodata|                                                                 100|                                                              100|                                                              100|                                            null|                                         null|                                         null|     Western Pacific|\n",
            "|             Austria|                                 Nodata|                                    Nodata|                                                 Nodata|                                             null|                                          null|                                          null|                                                          null|                                                       null|                                                       null|              Europe|             Austria|                                  No data|                                                       Nodata|                                   Nodata|                                                                null|                                                             null|                                                             null|                                            null|                                         null|                                         null|              Europe|\n",
            "|          Azerbaijan|                                   4400|                                    Nodata|                                                 Nodata|                                             null|                                          null|                                          null|                                                          null|                                                       null|                                                       null|              Europe|          Azerbaijan|                                      110|                                                       Nodata|                                   Nodata|                                                                null|                                                             null|                                                             null|                                            null|                                         null|                                         null|              Europe|\n",
            "|             Bahamas|                                   3100|                           6000[5300–6700]|                                              52[45–58]|                                             6000|                                          5300|                                          6700|                                                            52|                                                         45|                                                         58|            Americas|             Bahamas|                                       40|                                                 200[200-500]|                                21[18-26]|                                                                 200|                                                              200|                                                              500|                                              21|                                           18|                                           26|            Americas|\n",
            "|             Bahrain|                                 Nodata|                                    Nodata|                                                 Nodata|                                             null|                                          null|                                          null|                                                          null|                                                       null|                                                       null|Eastern Mediterra...|             Bahrain|                                  No data|                                                       Nodata|                                   Nodata|                                                                null|                                                             null|                                                             null|                                            null|                                         null|                                         null|Eastern Mediterra...|\n",
            "|          Bangladesh|                                   3000|                        14000[12000–16000]|                                              22[19–25]|                                            14000|                                         12000|                                         16000|                                                            22|                                                         19|                                                         25|     South-East Asia|          Bangladesh|                                      130|                                                 500[500-500]|                                33[28-38]|                                                                 500|                                                              500|                                                              500|                                              33|                                           28|                                           38|     South-East Asia|\n",
            "|            Barbados|                                   1500|                           3000[2700–3400]|                                              50[44–57]|                                             3000|                                          2700|                                          3400|                                                            50|                                                         44|                                                         57|            Americas|            Barbados|                                  No data|                                                       Nodata|                                   Nodata|                                                                null|                                                             null|                                                             null|                                            null|                                         null|                                         null|            Americas|\n",
            "|             Belarus|                                  15500|                        27000[22000–34000]|                                              59[48–75]|                                            27000|                                         22000|                                         34000|                                                            59|                                                         48|                                                         75|              Europe|             Belarus|                                      220|                                                 500[200-500]|                                88[64-95]|                                                                 500|                                                              200|                                                              500|                                              88|                                           64|                                           95|              Europe|\n",
            "|             Belgium|                                 Nodata|                                    Nodata|                                                 Nodata|                                             null|                                          null|                                          null|                                                          null|                                                       null|                                                       null|              Europe|             Belgium|                                  No data|                                                       Nodata|                                   Nodata|                                                                null|                                                             null|                                                             null|                                            null|                                         null|                                         null|              Europe|\n",
            "|              Belize|                                   1400|                           4900[4400–5400]|                                              28[26–31]|                                             4900|                                          4400|                                          5400|                                                            28|                                                         26|                                                         31|            Americas|              Belize|                                       60|                                                 200[200-200]|                                34[31-38]|                                                                 200|                                                              200|                                                              200|                                              34|                                           31|                                           38|            Americas|\n",
            "|               Benin|                                  44200|                       73000[48000–120000]|                                              61[40–95]|                                            73000|                                         48000|                                        120000|                                                            61|                                                         40|                                                         95|              Africa|               Benin|                                     2000|                                              4600[2800-8000]|                                44[27-77]|                                                                4600|                                                             2800|                                                             8000|                                              44|                                           27|                                           77|              Africa|\n",
            "|              Bhutan|                                    480|                            1300[700–2700]|                                              37[20–78]|                                             1300|                                           700|                                          2700|                                                            37|                                                         20|                                                         78|     South-East Asia|              Bhutan|                                  No data|                                                       Nodata|                                   Nodata|                                                                null|                                                             null|                                                             null|                                            null|                                         null|                                         null|     South-East Asia|\n",
            "|Bolivia (Plurinat...|                                   9900|                        22000[20000–24000]|                                              44[40–48]|                                            22000|                                         20000|                                         24000|                                                            44|                                                         40|                                                         48|            Americas|Bolivia (Plurinat...|                                      250|                                                 620[560-670]|                                40[37-43]|                                                                 620|                                                              560|                                                              670|                                              40|                                           37|                                           43|            Americas|\n",
            "|Bosnia and Herzeg...|                                    220|                              500[500–500]|                                              67[57–78]|                                              500|                                           500|                                           500|                                                            67|                                                         57|                                                         78|              Europe|Bosnia and Herzeg...|                                  No data|                                                       Nodata|                                   Nodata|                                                                null|                                                             null|                                                             null|                                            null|                                         null|                                         null|              Europe|\n",
            "+--------------------+---------------------------------------+------------------------------------------+-------------------------------------------------------+-------------------------------------------------+----------------------------------------------+----------------------------------------------+--------------------------------------------------------------+-----------------------------------------------------------+-----------------------------------------------------------+--------------------+--------------------+-----------------------------------------+-------------------------------------------------------------+-----------------------------------------+--------------------------------------------------------------------+-----------------------------------------------------------------+-----------------------------------------------------------------+------------------------------------------------+---------------------------------------------+---------------------------------------------+--------------------+\n",
            "only showing top 20 rows\n",
            "\n"
          ],
          "name": "stdout"
        }
      ]
    },
    {
      "cell_type": "code",
      "metadata": {
        "colab": {
          "base_uri": "https://localhost:8080/",
          "height": 54
        },
        "id": "j7sqV5nDXJUy",
        "outputId": "5f38426e-74b7-49d8-b4f9-69c567793a0c"
      },
      "source": [
        "# fourth join - artCoverageByCountry_df and deathsByCountry\r\n",
        "combined_data_4 = artCoverageByCountry_df.join(deathsByCountry, artCoverageByCountry_df['Country'] == deathsByCountry['Country'])\r\n",
        "display(combined_data_4)"
      ],
      "execution_count": null,
      "outputs": [
        {
          "output_type": "display_data",
          "data": {
            "text/plain": [
              "DataFrame[Country: string, Reported number of people receiving ART: string, Estimated number of people living with HIV: string, Estimated ART coverage among people living with HIV (%): string, Estimated number of people living with HIV_median: int, Estimated number of people living with HIV_min: int, Estimated number of people living with HIV_max: int, Estimated ART coverage among people living with HIV (%)_median: int, Estimated ART coverage among people living with HIV (%)_min: int, Estimated ART coverage among people living with HIV (%)_max: int, WHO Region: string, Country: string, Year: double, Count: string, Count_median: int, Count_min: int, Count_max: int, WHO Region: string]"
            ]
          },
          "metadata": {
            "tags": []
          }
        }
      ]
    },
    {
      "cell_type": "code",
      "metadata": {
        "colab": {
          "base_uri": "https://localhost:8080/"
        },
        "id": "ZJqrZFvRXVj-",
        "outputId": "c305d492-89e5-41a3-bff1-1fff6a0f4556"
      },
      "source": [
        "# print out schema of newly created combined_data_4 - this shows that the above combining of dataframes work successfully \r\n",
        "combined_data_4.printSchema()"
      ],
      "execution_count": null,
      "outputs": [
        {
          "output_type": "stream",
          "text": [
            "root\n",
            " |-- Country: string (nullable = true)\n",
            " |-- Reported number of people receiving ART: string (nullable = true)\n",
            " |-- Estimated number of people living with HIV: string (nullable = true)\n",
            " |-- Estimated ART coverage among people living with HIV (%): string (nullable = true)\n",
            " |-- Estimated number of people living with HIV_median: integer (nullable = true)\n",
            " |-- Estimated number of people living with HIV_min: integer (nullable = true)\n",
            " |-- Estimated number of people living with HIV_max: integer (nullable = true)\n",
            " |-- Estimated ART coverage among people living with HIV (%)_median: integer (nullable = true)\n",
            " |-- Estimated ART coverage among people living with HIV (%)_min: integer (nullable = true)\n",
            " |-- Estimated ART coverage among people living with HIV (%)_max: integer (nullable = true)\n",
            " |-- WHO Region: string (nullable = true)\n",
            " |-- Country: string (nullable = true)\n",
            " |-- Year: double (nullable = true)\n",
            " |-- Count: string (nullable = true)\n",
            " |-- Count_median: integer (nullable = true)\n",
            " |-- Count_min: integer (nullable = true)\n",
            " |-- Count_max: integer (nullable = true)\n",
            " |-- WHO Region: string (nullable = true)\n",
            "\n"
          ],
          "name": "stdout"
        }
      ]
    },
    {
      "cell_type": "code",
      "metadata": {
        "id": "7JlpRwoyXdPx",
        "colab": {
          "base_uri": "https://localhost:8080/"
        },
        "outputId": "f3ef90e1-de9d-4d1a-c47b-454a68ab3031"
      },
      "source": [
        "# remove duplicated rows from combined_data_4 dataframe.\r\n",
        "combined_data_4.dropDuplicates()"
      ],
      "execution_count": null,
      "outputs": [
        {
          "output_type": "execute_result",
          "data": {
            "text/plain": [
              "DataFrame[Country: string, Reported number of people receiving ART: string, Estimated number of people living with HIV: string, Estimated ART coverage among people living with HIV (%): string, Estimated number of people living with HIV_median: int, Estimated number of people living with HIV_min: int, Estimated number of people living with HIV_max: int, Estimated ART coverage among people living with HIV (%)_median: int, Estimated ART coverage among people living with HIV (%)_min: int, Estimated ART coverage among people living with HIV (%)_max: int, WHO Region: string, Country: string, Year: double, Count: string, Count_median: int, Count_min: int, Count_max: int, WHO Region: string]"
            ]
          },
          "metadata": {
            "tags": []
          },
          "execution_count": 28
        }
      ]
    },
    {
      "cell_type": "code",
      "metadata": {
        "colab": {
          "base_uri": "https://localhost:8080/"
        },
        "id": "B3VO9XmsXfYC",
        "outputId": "026a7781-bd34-450f-a5af-c2d0b3a8489d"
      },
      "source": [
        "# show results\r\n",
        "combined_data_4.show()"
      ],
      "execution_count": null,
      "outputs": [
        {
          "output_type": "stream",
          "text": [
            "+--------------------+---------------------------------------+------------------------------------------+-------------------------------------------------------+-------------------------------------------------+----------------------------------------------+----------------------------------------------+--------------------------------------------------------------+-----------------------------------------------------------+-----------------------------------------------------------+--------------------+--------------------+------+-----------------+------------+---------+---------+--------------------+\n",
            "|             Country|Reported number of people receiving ART|Estimated number of people living with HIV|Estimated ART coverage among people living with HIV (%)|Estimated number of people living with HIV_median|Estimated number of people living with HIV_min|Estimated number of people living with HIV_max|Estimated ART coverage among people living with HIV (%)_median|Estimated ART coverage among people living with HIV (%)_min|Estimated ART coverage among people living with HIV (%)_max|          WHO Region|             Country|  Year|            Count|Count_median|Count_min|Count_max|          WHO Region|\n",
            "+--------------------+---------------------------------------+------------------------------------------+-------------------------------------------------------+-------------------------------------------------+----------------------------------------------+----------------------------------------------+--------------------------------------------------------------+-----------------------------------------------------------+-----------------------------------------------------------+--------------------+--------------------+------+-----------------+------------+---------+---------+--------------------+\n",
            "|         Afghanistan|                                    920|                          7200[4100–11000]|                                               13[7–20]|                                             7200|                                          4100|                                         11000|                                                            13|                                                          7|                                                         20|Eastern Mediterra...|         Afghanistan|2018.0|     500[200–610]|         500|      200|      610|Eastern Mediterra...|\n",
            "|             Albania|                                    580|                                    Nodata|                                                 Nodata|                                             null|                                          null|                                          null|                                                          null|                                                       null|                                                       null|              Europe|             Albania|2018.0|               na|        null|     null|     null|              Europe|\n",
            "|             Algeria|                                  12800|                        16000[15000–17000]|                                              81[75–86]|                                            16000|                                         15000|                                         17000|                                                            81|                                                         75|                                                         86|              Africa|             Algeria|2018.0|     200[200–200]|         200|      200|      200|              Africa|\n",
            "|              Angola|                                  88700|                      330000[290000–390...|                                              27[23–31]|                                           330000|                                        290000|                                        390000|                                                            27|                                                         23|                                                         31|              Africa|              Angola|2018.0|14000[9500–18000]|       14000|     9500|    18000|              Africa|\n",
            "|           Argentina|                                  85500|                      140000[130000–150...|                                              61[55–67]|                                           140000|                                        130000|                                        150000|                                                            61|                                                         55|                                                         67|            Americas|           Argentina|2018.0|  1700[1300–2100]|        1700|     1300|     2100|            Americas|\n",
            "|             Armenia|                                   1900|                           3500[3000–4400]|                                              53[44–65]|                                             3500|                                          3000|                                          4400|                                                            53|                                                         44|                                                         65|              Europe|             Armenia|2018.0|     200[100–200]|         200|      100|      200|              Europe|\n",
            "|           Australia|                                  22800|                        28000[23000–31000]|                                              83[70–93]|                                            28000|                                         23000|                                         31000|                                                            83|                                                         70|                                                         93|     Western Pacific|           Australia|2018.0|     200[200–500]|         200|      200|      500|     Western Pacific|\n",
            "|             Austria|                                 Nodata|                                    Nodata|                                                 Nodata|                                             null|                                          null|                                          null|                                                          null|                                                       null|                                                       null|              Europe|             Austria|2018.0|               na|        null|     null|     null|              Europe|\n",
            "|          Azerbaijan|                                   4400|                                    Nodata|                                                 Nodata|                                             null|                                          null|                                          null|                                                          null|                                                       null|                                                       null|              Europe|          Azerbaijan|2018.0|               na|        null|     null|     null|              Europe|\n",
            "|             Bahamas|                                   3100|                           6000[5300–6700]|                                              52[45–58]|                                             6000|                                          5300|                                          6700|                                                            52|                                                         45|                                                         58|            Americas|             Bahamas|2018.0|     200[200–500]|         200|      200|      500|            Americas|\n",
            "|             Bahrain|                                 Nodata|                                    Nodata|                                                 Nodata|                                             null|                                          null|                                          null|                                                          null|                                                       null|                                                       null|Eastern Mediterra...|             Bahrain|2018.0|               na|        null|     null|     null|Eastern Mediterra...|\n",
            "|          Bangladesh|                                   3000|                        14000[12000–16000]|                                              22[19–25]|                                            14000|                                         12000|                                         16000|                                                            22|                                                         19|                                                         25|     South-East Asia|          Bangladesh|2018.0|     580[500–680]|         580|      500|      680|     South-East Asia|\n",
            "|            Barbados|                                   1500|                           3000[2700–3400]|                                              50[44–57]|                                             3000|                                          2700|                                          3400|                                                            50|                                                         44|                                                         57|            Americas|            Barbados|2018.0|     100[100–100]|         100|      100|      100|            Americas|\n",
            "|             Belarus|                                  15500|                        27000[22000–34000]|                                              59[48–75]|                                            27000|                                         22000|                                         34000|                                                            59|                                                         48|                                                         75|              Europe|             Belarus|2018.0|     500[200–500]|         500|      200|      500|              Europe|\n",
            "|             Belgium|                                 Nodata|                                    Nodata|                                                 Nodata|                                             null|                                          null|                                          null|                                                          null|                                                       null|                                                       null|              Europe|             Belgium|2018.0|               na|        null|     null|     null|              Europe|\n",
            "|              Belize|                                   1400|                           4900[4400–5400]|                                              28[26–31]|                                             4900|                                          4400|                                          5400|                                                            28|                                                         26|                                                         31|            Americas|              Belize|2018.0|     200[200–500]|         200|      200|      500|            Americas|\n",
            "|               Benin|                                  44200|                       73000[48000–120000]|                                              61[40–95]|                                            73000|                                         48000|                                        120000|                                                            61|                                                         40|                                                         95|              Africa|               Benin|2018.0|  2200[1100–4400]|        2200|     1100|     4400|              Africa|\n",
            "|              Bhutan|                                    480|                            1300[700–2700]|                                              37[20–78]|                                             1300|                                           700|                                          2700|                                                            37|                                                         20|                                                         78|     South-East Asia|              Bhutan|2018.0|     100[100–200]|         100|      100|      200|     South-East Asia|\n",
            "|Bolivia (Plurinat...|                                   9900|                        22000[20000–24000]|                                              44[40–48]|                                            22000|                                         20000|                                         24000|                                                            44|                                                         40|                                                         48|            Americas|Bolivia (Plurinat...|2018.0|     670[550–760]|         670|      550|      760|            Americas|\n",
            "|Bosnia and Herzeg...|                                    220|                              500[500–500]|                                              67[57–78]|                                              500|                                           500|                                           500|                                                            67|                                                         57|                                                         78|              Europe|Bosnia and Herzeg...|2018.0|     100[100–100]|         100|      100|      100|              Europe|\n",
            "+--------------------+---------------------------------------+------------------------------------------+-------------------------------------------------------+-------------------------------------------------+----------------------------------------------+----------------------------------------------+--------------------------------------------------------------+-----------------------------------------------------------+-----------------------------------------------------------+--------------------+--------------------+------+-----------------+------------+---------+---------+--------------------+\n",
            "only showing top 20 rows\n",
            "\n"
          ],
          "name": "stdout"
        }
      ]
    },
    {
      "cell_type": "markdown",
      "metadata": {
        "id": "zfkbx7MRsSC4"
      },
      "source": [
        "# Exploratory Analysis"
      ]
    },
    {
      "cell_type": "code",
      "metadata": {
        "colab": {
          "base_uri": "https://localhost:8080/"
        },
        "id": "zMPADbb0tT9O",
        "outputId": "87ea7a80-eaa5-4c8b-abde-3f75ff168b1e"
      },
      "source": [
        "# explore HIV cases count by WHO Region\r\n",
        "casesByRegion = hivCasesByCountry_df.groupBy(\"WHO Region\").sum(\"Count_median\")\r\n",
        "casesByRegion.show()"
      ],
      "execution_count": null,
      "outputs": [
        {
          "output_type": "stream",
          "text": [
            "+--------------------+-----------------+\n",
            "|          WHO Region|sum(Count_median)|\n",
            "+--------------------+-----------------+\n",
            "|              Europe|          3281540|\n",
            "|     Western Pacific|          1793000|\n",
            "|              Africa|         83849000|\n",
            "|Eastern Mediterra...|           826070|\n",
            "|            Americas|          8073100|\n",
            "|     South-East Asia|          4920170|\n",
            "+--------------------+-----------------+\n",
            "\n"
          ],
          "name": "stdout"
        }
      ]
    },
    {
      "cell_type": "code",
      "metadata": {
        "colab": {
          "base_uri": "https://localhost:8080/"
        },
        "id": "Lf-99Gxiqnnx",
        "outputId": "874ef4f5-e67f-4bdd-f2b4-2dbcde0306b8"
      },
      "source": [
        "# explore HIV cases count by country\r\n",
        "casesByCountry = hivCasesByCountry_df.groupBy(\"Country\").sum(\"Count_median\")\r\n",
        "casesByCountry.show()"
      ],
      "execution_count": null,
      "outputs": [
        {
          "output_type": "stream",
          "text": [
            "+-----------------+-----------------+\n",
            "|          Country|sum(Count_median)|\n",
            "+-----------------+-----------------+\n",
            "|    Côte d'Ivoire|          2040000|\n",
            "|             Chad|           387000|\n",
            "|         Paraguay|            74000|\n",
            "|            Yemen|            19600|\n",
            "|          Senegal|           161000|\n",
            "|       Cabo Verde|             7900|\n",
            "|           Sweden|             null|\n",
            "|Republic of Korea|             null|\n",
            "|           Guyana|            22200|\n",
            "|          Eritrea|            68000|\n",
            "|      Philippines|            96700|\n",
            "|         Djibouti|            38600|\n",
            "|         Malaysia|           282000|\n",
            "|        Singapore|            21400|\n",
            "|             Fiji|             null|\n",
            "|           Turkey|             null|\n",
            "|           Malawi|          3500000|\n",
            "|          Germany|           257000|\n",
            "|          Comoros|              600|\n",
            "|      Afghanistan|            15900|\n",
            "+-----------------+-----------------+\n",
            "only showing top 20 rows\n",
            "\n"
          ],
          "name": "stdout"
        }
      ]
    },
    {
      "cell_type": "code",
      "metadata": {
        "colab": {
          "base_uri": "https://localhost:8080/"
        },
        "id": "KrsVutmKxw3z",
        "outputId": "b949de9a-81d9-4be0-ad70-3f2875d5e5fe"
      },
      "source": [
        "# explore # children needing ART cases count by country\r\n",
        "childrenNeedingART = artPediatricCoverage_df.groupBy(\"Country\").sum(\"Estimated number of children needing ART based on WHO methods_median\")\r\n",
        "childrenNeedingART.show()"
      ],
      "execution_count": null,
      "outputs": [
        {
          "output_type": "stream",
          "text": [
            "+-----------------+-------------------------------------------------------------------------+\n",
            "|          Country|sum(Estimated number of children needing ART based on WHO methods_median)|\n",
            "+-----------------+-------------------------------------------------------------------------+\n",
            "|    Côte d'Ivoire|                                                                    31000|\n",
            "|             Chad|                                                                    16000|\n",
            "|         Paraguay|                                                                      500|\n",
            "|            Yemen|                                                                      500|\n",
            "|          Senegal|                                                                     4500|\n",
            "|       Cabo Verde|                                                                     null|\n",
            "|           Sweden|                                                                     null|\n",
            "|Republic of Korea|                                                                     null|\n",
            "|           Guyana|                                                                      500|\n",
            "|          Eritrea|                                                                     1300|\n",
            "|      Philippines|                                                                      500|\n",
            "|         Djibouti|                                                                      810|\n",
            "|         Malaysia|                                                                      500|\n",
            "|        Singapore|                                                                     null|\n",
            "|             Fiji|                                                                     null|\n",
            "|           Turkey|                                                                     null|\n",
            "|           Malawi|                                                                    74000|\n",
            "|          Germany|                                                                      200|\n",
            "|          Comoros|                                                                     null|\n",
            "|      Afghanistan|                                                                      500|\n",
            "+-----------------+-------------------------------------------------------------------------+\n",
            "only showing top 20 rows\n",
            "\n"
          ],
          "name": "stdout"
        }
      ]
    },
    {
      "cell_type": "code",
      "metadata": {
        "colab": {
          "base_uri": "https://localhost:8080/"
        },
        "id": "z_sA86cww4iG",
        "outputId": "3a99e532-18cb-4e53-c128-29d52cb41f0d"
      },
      "source": [
        "# explore # deaths per country\r\n",
        "deathsperCountry = deathsByCountry.groupBy(\"Country\").sum(\"Count_median\")\r\n",
        "deathsperCountry.show()"
      ],
      "execution_count": null,
      "outputs": [
        {
          "output_type": "stream",
          "text": [
            "+-----------------+-----------------+\n",
            "|          Country|sum(Count_median)|\n",
            "+-----------------+-----------------+\n",
            "|    Côte d'Ivoire|            84000|\n",
            "|             Chad|            12200|\n",
            "|         Paraguay|             2010|\n",
            "|            Yemen|              800|\n",
            "|          Senegal|             4300|\n",
            "|       Cabo Verde|              400|\n",
            "|           Sweden|             null|\n",
            "|Republic of Korea|             null|\n",
            "|           Guyana|              400|\n",
            "|          Eritrea|             2220|\n",
            "|      Philippines|             1800|\n",
            "|         Djibouti|             1630|\n",
            "|         Malaysia|             8200|\n",
            "|        Singapore|              200|\n",
            "|             Fiji|             null|\n",
            "|           Turkey|             null|\n",
            "|           Malawi|            99000|\n",
            "|          Germany|             1880|\n",
            "|          Comoros|              300|\n",
            "|      Afghanistan|             1100|\n",
            "+-----------------+-----------------+\n",
            "only showing top 20 rows\n",
            "\n"
          ],
          "name": "stdout"
        }
      ]
    },
    {
      "cell_type": "code",
      "metadata": {
        "colab": {
          "base_uri": "https://localhost:8080/",
          "height": 253
        },
        "id": "wvZ5JbD6wlvk",
        "outputId": "666011c0-c6c8-4603-ed9d-482dc92c0232"
      },
      "source": [
        "# prevention_of_mother_to_child_transmission_by_country_clean.csv - look at children with HIV\r\n",
        "motherTransmissionCasesART = artPediatricCoverage_df.groupBy(\"Country\").sum(\"Received Antiretrovirals\")\r\n",
        "motherTransmissionCasesART.show()"
      ],
      "execution_count": null,
      "outputs": [
        {
          "output_type": "error",
          "ename": "AnalysisException",
          "evalue": "ignored",
          "traceback": [
            "\u001b[0;31m---------------------------------------------------------------------------\u001b[0m",
            "\u001b[0;31mAnalysisException\u001b[0m                         Traceback (most recent call last)",
            "\u001b[0;32m<ipython-input-36-97ba6c288367>\u001b[0m in \u001b[0;36m<module>\u001b[0;34m()\u001b[0m\n\u001b[1;32m      1\u001b[0m \u001b[0;31m# prevention_of_mother_to_child_transmission_by_country_clean.csv - look at received vs needing ART\u001b[0m\u001b[0;34m\u001b[0m\u001b[0;34m\u001b[0m\u001b[0;34m\u001b[0m\u001b[0m\n\u001b[0;32m----> 2\u001b[0;31m \u001b[0mmotherTransmissionCasesART\u001b[0m \u001b[0;34m=\u001b[0m \u001b[0mchildTransmissionByCountry_df\u001b[0m\u001b[0;34m.\u001b[0m\u001b[0mgroupBy\u001b[0m\u001b[0;34m(\u001b[0m\u001b[0;34m\"Country\"\u001b[0m\u001b[0;34m)\u001b[0m\u001b[0;34m.\u001b[0m\u001b[0msum\u001b[0m\u001b[0;34m(\u001b[0m\u001b[0;34m\"Received Antiretrovirals\"\u001b[0m\u001b[0;34m)\u001b[0m\u001b[0;34m\u001b[0m\u001b[0;34m\u001b[0m\u001b[0m\n\u001b[0m\u001b[1;32m      3\u001b[0m \u001b[0mmotherTransmissionCasesART\u001b[0m\u001b[0;34m.\u001b[0m\u001b[0mshow\u001b[0m\u001b[0;34m(\u001b[0m\u001b[0;34m)\u001b[0m\u001b[0;34m\u001b[0m\u001b[0;34m\u001b[0m\u001b[0m\n",
            "\u001b[0;32m/usr/local/lib/python3.7/dist-packages/pyspark/sql/group.py\u001b[0m in \u001b[0;36m_api\u001b[0;34m(self, *cols)\u001b[0m\n\u001b[1;32m     41\u001b[0m     \u001b[0;32mdef\u001b[0m \u001b[0m_api\u001b[0m\u001b[0;34m(\u001b[0m\u001b[0mself\u001b[0m\u001b[0;34m,\u001b[0m \u001b[0;34m*\u001b[0m\u001b[0mcols\u001b[0m\u001b[0;34m)\u001b[0m\u001b[0;34m:\u001b[0m\u001b[0;34m\u001b[0m\u001b[0;34m\u001b[0m\u001b[0m\n\u001b[1;32m     42\u001b[0m         \u001b[0mname\u001b[0m \u001b[0;34m=\u001b[0m \u001b[0mf\u001b[0m\u001b[0;34m.\u001b[0m\u001b[0m__name__\u001b[0m\u001b[0;34m\u001b[0m\u001b[0;34m\u001b[0m\u001b[0m\n\u001b[0;32m---> 43\u001b[0;31m         \u001b[0mjdf\u001b[0m \u001b[0;34m=\u001b[0m \u001b[0mgetattr\u001b[0m\u001b[0;34m(\u001b[0m\u001b[0mself\u001b[0m\u001b[0;34m.\u001b[0m\u001b[0m_jgd\u001b[0m\u001b[0;34m,\u001b[0m \u001b[0mname\u001b[0m\u001b[0;34m)\u001b[0m\u001b[0;34m(\u001b[0m\u001b[0m_to_seq\u001b[0m\u001b[0;34m(\u001b[0m\u001b[0mself\u001b[0m\u001b[0;34m.\u001b[0m\u001b[0msql_ctx\u001b[0m\u001b[0;34m.\u001b[0m\u001b[0m_sc\u001b[0m\u001b[0;34m,\u001b[0m \u001b[0mcols\u001b[0m\u001b[0;34m)\u001b[0m\u001b[0;34m)\u001b[0m\u001b[0;34m\u001b[0m\u001b[0;34m\u001b[0m\u001b[0m\n\u001b[0m\u001b[1;32m     44\u001b[0m         \u001b[0;32mreturn\u001b[0m \u001b[0mDataFrame\u001b[0m\u001b[0;34m(\u001b[0m\u001b[0mjdf\u001b[0m\u001b[0;34m,\u001b[0m \u001b[0mself\u001b[0m\u001b[0;34m.\u001b[0m\u001b[0msql_ctx\u001b[0m\u001b[0;34m)\u001b[0m\u001b[0;34m\u001b[0m\u001b[0;34m\u001b[0m\u001b[0m\n\u001b[1;32m     45\u001b[0m     \u001b[0m_api\u001b[0m\u001b[0;34m.\u001b[0m\u001b[0m__name__\u001b[0m \u001b[0;34m=\u001b[0m \u001b[0mf\u001b[0m\u001b[0;34m.\u001b[0m\u001b[0m__name__\u001b[0m\u001b[0;34m\u001b[0m\u001b[0;34m\u001b[0m\u001b[0m\n",
            "\u001b[0;32m/usr/local/lib/python3.7/dist-packages/py4j/java_gateway.py\u001b[0m in \u001b[0;36m__call__\u001b[0;34m(self, *args)\u001b[0m\n\u001b[1;32m   1303\u001b[0m         \u001b[0manswer\u001b[0m \u001b[0;34m=\u001b[0m \u001b[0mself\u001b[0m\u001b[0;34m.\u001b[0m\u001b[0mgateway_client\u001b[0m\u001b[0;34m.\u001b[0m\u001b[0msend_command\u001b[0m\u001b[0;34m(\u001b[0m\u001b[0mcommand\u001b[0m\u001b[0;34m)\u001b[0m\u001b[0;34m\u001b[0m\u001b[0;34m\u001b[0m\u001b[0m\n\u001b[1;32m   1304\u001b[0m         return_value = get_return_value(\n\u001b[0;32m-> 1305\u001b[0;31m             answer, self.gateway_client, self.target_id, self.name)\n\u001b[0m\u001b[1;32m   1306\u001b[0m \u001b[0;34m\u001b[0m\u001b[0m\n\u001b[1;32m   1307\u001b[0m         \u001b[0;32mfor\u001b[0m \u001b[0mtemp_arg\u001b[0m \u001b[0;32min\u001b[0m \u001b[0mtemp_args\u001b[0m\u001b[0;34m:\u001b[0m\u001b[0;34m\u001b[0m\u001b[0;34m\u001b[0m\u001b[0m\n",
            "\u001b[0;32m/usr/local/lib/python3.7/dist-packages/pyspark/sql/utils.py\u001b[0m in \u001b[0;36mdeco\u001b[0;34m(*a, **kw)\u001b[0m\n\u001b[1;32m    132\u001b[0m                 \u001b[0;31m# Hide where the exception came from that shows a non-Pythonic\u001b[0m\u001b[0;34m\u001b[0m\u001b[0;34m\u001b[0m\u001b[0;34m\u001b[0m\u001b[0m\n\u001b[1;32m    133\u001b[0m                 \u001b[0;31m# JVM exception message.\u001b[0m\u001b[0;34m\u001b[0m\u001b[0;34m\u001b[0m\u001b[0;34m\u001b[0m\u001b[0m\n\u001b[0;32m--> 134\u001b[0;31m                 \u001b[0mraise_from\u001b[0m\u001b[0;34m(\u001b[0m\u001b[0mconverted\u001b[0m\u001b[0;34m)\u001b[0m\u001b[0;34m\u001b[0m\u001b[0;34m\u001b[0m\u001b[0m\n\u001b[0m\u001b[1;32m    135\u001b[0m             \u001b[0;32melse\u001b[0m\u001b[0;34m:\u001b[0m\u001b[0;34m\u001b[0m\u001b[0;34m\u001b[0m\u001b[0m\n\u001b[1;32m    136\u001b[0m                 \u001b[0;32mraise\u001b[0m\u001b[0;34m\u001b[0m\u001b[0;34m\u001b[0m\u001b[0m\n",
            "\u001b[0;32m/usr/local/lib/python3.7/dist-packages/pyspark/sql/utils.py\u001b[0m in \u001b[0;36mraise_from\u001b[0;34m(e)\u001b[0m\n",
            "\u001b[0;31mAnalysisException\u001b[0m: \"Received Antiretrovirals\" is not a numeric column. Aggregation function can only be applied on a numeric column.;"
          ]
        }
      ]
    },
    {
      "cell_type": "code",
      "metadata": {
        "colab": {
          "base_uri": "https://localhost:8080/"
        },
        "id": "SA61S4HXzlwW",
        "outputId": "150718cf-4c76-441d-c169-a2f9cd4c477a"
      },
      "source": [
        "# prevention_of_mother_to_child_transmission_by_country_clean.csv - look at  needing ART\r\n",
        "motherTransmissionCasesNeedingART = childTransmissionByCountry_df.groupBy(\"Country\").sum(\"Needing antiretrovirals_min\")\r\n",
        "motherTransmissionCasesNeedingART.show()"
      ],
      "execution_count": null,
      "outputs": [
        {
          "output_type": "stream",
          "text": [
            "+-----------------+--------------------------------+\n",
            "|          Country|sum(Needing antiretrovirals_min)|\n",
            "+-----------------+--------------------------------+\n",
            "|    Côte d'Ivoire|                           13000|\n",
            "|             Chad|                            7200|\n",
            "|         Paraguay|                             200|\n",
            "|            Yemen|                             200|\n",
            "|          Senegal|                            1800|\n",
            "|       Cabo Verde|                            null|\n",
            "|           Sweden|                            null|\n",
            "|Republic of Korea|                            null|\n",
            "|           Guyana|                             200|\n",
            "|          Eritrea|                             500|\n",
            "|      Philippines|                             500|\n",
            "|         Djibouti|                             200|\n",
            "|         Malaysia|                             500|\n",
            "|        Singapore|                            null|\n",
            "|             Fiji|                            null|\n",
            "|           Turkey|                            null|\n",
            "|           Malawi|                           34000|\n",
            "|          Germany|                             500|\n",
            "|          Comoros|                            null|\n",
            "|      Afghanistan|                             100|\n",
            "+-----------------+--------------------------------+\n",
            "only showing top 20 rows\n",
            "\n"
          ],
          "name": "stdout"
        }
      ]
    },
    {
      "cell_type": "markdown",
      "metadata": {
        "id": "-whRsnFr27B9"
      },
      "source": [
        "# Visualisation"
      ]
    },
    {
      "cell_type": "code",
      "metadata": {
        "colab": {
          "base_uri": "https://localhost:8080/",
          "height": 467
        },
        "id": "fErOvN0o29i9",
        "outputId": "d6a57a21-cdc7-46a4-bb21-519ef445acab"
      },
      "source": [
        "# convert spark hivCasesByCountry_df to pandas\r\n",
        "pd_hivCasesByCountry_df = hivCasesByCountry_df.select(\"*\").toPandas()\r\n",
        "\r\n",
        "# Number of cases per country\r\n",
        "plt.figure(figsize=(10,5))\r\n",
        "chart = sns.countplot(\r\n",
        "    data=pd_hivCasesByCountry_df,\r\n",
        "    x='WHO Region',\r\n",
        "    palette='Set1', \r\n",
        "    order=pd_hivCasesByCountry_df['WHO Region'].value_counts().index\r\n",
        ")\r\n",
        "\r\n",
        "plt.xticks(\r\n",
        "    rotation=45, \r\n",
        "    horizontalalignment='right',\r\n",
        "    fontweight='light',\r\n",
        "    fontsize='x-large'  \r\n",
        ")"
      ],
      "execution_count": null,
      "outputs": [
        {
          "output_type": "execute_result",
          "data": {
            "text/plain": [
              "(array([0, 1, 2, 3, 4, 5]), <a list of 6 Text major ticklabel objects>)"
            ]
          },
          "metadata": {
            "tags": []
          },
          "execution_count": 40
        },
        {
          "output_type": "display_data",
          "data": {
            "image/png": "[encoded data removed]",
            "text/plain": [
              "<Figure size 720x360 with 1 Axes>"
            ]
          },
          "metadata": {
            "tags": [],
            "needs_background": "light"
          }
        }
      ]
    },
    {
      "cell_type": "code",
      "metadata": {
        "colab": {
          "base_uri": "https://localhost:8080/",
          "height": 337
        },
        "id": "XTJC5cIjeotY",
        "outputId": "7fc50693-7d78-4595-bcb6-28a68eadf6f0"
      },
      "source": [
        "top5 =casesByCountry[casesByCountry[\"Count_median\"]>=5]\r\n",
        "fig= plt.figure(figsize=(15,10))\r\n",
        "\r\n",
        "sns.lineplot(data=top5,x=\"Year\",y=\"Count_median\",hue=\"Country\").set_title(\"Top 5 countries by HIV cases\")\r\n",
        "fig.show()"
      ],
      "execution_count": null,
      "outputs": [
        {
          "output_type": "error",
          "ename": "AnalysisException",
          "evalue": "ignored",
          "traceback": [
            "\u001b[0;31m---------------------------------------------------------------------------\u001b[0m",
            "\u001b[0;31mAnalysisException\u001b[0m                         Traceback (most recent call last)",
            "\u001b[0;32m<ipython-input-41-9fdd73d027fd>\u001b[0m in \u001b[0;36m<module>\u001b[0;34m()\u001b[0m\n\u001b[0;32m----> 1\u001b[0;31m \u001b[0mtop5\u001b[0m \u001b[0;34m=\u001b[0m\u001b[0mcasesByCountry\u001b[0m\u001b[0;34m[\u001b[0m\u001b[0mcasesByCountry\u001b[0m\u001b[0;34m[\u001b[0m\u001b[0;34m\"Count_median\"\u001b[0m\u001b[0;34m]\u001b[0m\u001b[0;34m>=\u001b[0m\u001b[0;36m5\u001b[0m\u001b[0;34m]\u001b[0m\u001b[0;34m\u001b[0m\u001b[0;34m\u001b[0m\u001b[0m\n\u001b[0m\u001b[1;32m      2\u001b[0m \u001b[0mfig\u001b[0m\u001b[0;34m=\u001b[0m \u001b[0mplt\u001b[0m\u001b[0;34m.\u001b[0m\u001b[0mfigure\u001b[0m\u001b[0;34m(\u001b[0m\u001b[0mfigsize\u001b[0m\u001b[0;34m=\u001b[0m\u001b[0;34m(\u001b[0m\u001b[0;36m15\u001b[0m\u001b[0;34m,\u001b[0m\u001b[0;36m10\u001b[0m\u001b[0;34m)\u001b[0m\u001b[0;34m)\u001b[0m\u001b[0;34m\u001b[0m\u001b[0;34m\u001b[0m\u001b[0m\n\u001b[1;32m      3\u001b[0m \u001b[0;34m\u001b[0m\u001b[0m\n\u001b[1;32m      4\u001b[0m \u001b[0msns\u001b[0m\u001b[0;34m.\u001b[0m\u001b[0mlineplot\u001b[0m\u001b[0;34m(\u001b[0m\u001b[0mdata\u001b[0m\u001b[0;34m=\u001b[0m\u001b[0mtop5\u001b[0m\u001b[0;34m,\u001b[0m\u001b[0mx\u001b[0m\u001b[0;34m=\u001b[0m\u001b[0;34m\"Year\"\u001b[0m\u001b[0;34m,\u001b[0m\u001b[0my\u001b[0m\u001b[0;34m=\u001b[0m\u001b[0;34m\"Count_median\"\u001b[0m\u001b[0;34m,\u001b[0m\u001b[0mhue\u001b[0m\u001b[0;34m=\u001b[0m\u001b[0;34m\"Country\"\u001b[0m\u001b[0;34m)\u001b[0m\u001b[0;34m.\u001b[0m\u001b[0mset_title\u001b[0m\u001b[0;34m(\u001b[0m\u001b[0;34m\"Top 5 countries by HIV cases\"\u001b[0m\u001b[0;34m)\u001b[0m\u001b[0;34m\u001b[0m\u001b[0;34m\u001b[0m\u001b[0m\n\u001b[1;32m      5\u001b[0m \u001b[0mfig\u001b[0m\u001b[0;34m.\u001b[0m\u001b[0mshow\u001b[0m\u001b[0;34m(\u001b[0m\u001b[0;34m)\u001b[0m\u001b[0;34m\u001b[0m\u001b[0;34m\u001b[0m\u001b[0m\n",
            "\u001b[0;32m/usr/local/lib/python3.7/dist-packages/pyspark/sql/dataframe.py\u001b[0m in \u001b[0;36m__getitem__\u001b[0;34m(self, item)\u001b[0m\n\u001b[1;32m   1378\u001b[0m         \"\"\"\n\u001b[1;32m   1379\u001b[0m         \u001b[0;32mif\u001b[0m \u001b[0misinstance\u001b[0m\u001b[0;34m(\u001b[0m\u001b[0mitem\u001b[0m\u001b[0;34m,\u001b[0m \u001b[0mbasestring\u001b[0m\u001b[0;34m)\u001b[0m\u001b[0;34m:\u001b[0m\u001b[0;34m\u001b[0m\u001b[0;34m\u001b[0m\u001b[0m\n\u001b[0;32m-> 1380\u001b[0;31m             \u001b[0mjc\u001b[0m \u001b[0;34m=\u001b[0m \u001b[0mself\u001b[0m\u001b[0;34m.\u001b[0m\u001b[0m_jdf\u001b[0m\u001b[0;34m.\u001b[0m\u001b[0mapply\u001b[0m\u001b[0;34m(\u001b[0m\u001b[0mitem\u001b[0m\u001b[0;34m)\u001b[0m\u001b[0;34m\u001b[0m\u001b[0;34m\u001b[0m\u001b[0m\n\u001b[0m\u001b[1;32m   1381\u001b[0m             \u001b[0;32mreturn\u001b[0m \u001b[0mColumn\u001b[0m\u001b[0;34m(\u001b[0m\u001b[0mjc\u001b[0m\u001b[0;34m)\u001b[0m\u001b[0;34m\u001b[0m\u001b[0;34m\u001b[0m\u001b[0m\n\u001b[1;32m   1382\u001b[0m         \u001b[0;32melif\u001b[0m \u001b[0misinstance\u001b[0m\u001b[0;34m(\u001b[0m\u001b[0mitem\u001b[0m\u001b[0;34m,\u001b[0m \u001b[0mColumn\u001b[0m\u001b[0;34m)\u001b[0m\u001b[0;34m:\u001b[0m\u001b[0;34m\u001b[0m\u001b[0;34m\u001b[0m\u001b[0m\n",
            "\u001b[0;32m/usr/local/lib/python3.7/dist-packages/py4j/java_gateway.py\u001b[0m in \u001b[0;36m__call__\u001b[0;34m(self, *args)\u001b[0m\n\u001b[1;32m   1303\u001b[0m         \u001b[0manswer\u001b[0m \u001b[0;34m=\u001b[0m \u001b[0mself\u001b[0m\u001b[0;34m.\u001b[0m\u001b[0mgateway_client\u001b[0m\u001b[0;34m.\u001b[0m\u001b[0msend_command\u001b[0m\u001b[0;34m(\u001b[0m\u001b[0mcommand\u001b[0m\u001b[0;34m)\u001b[0m\u001b[0;34m\u001b[0m\u001b[0;34m\u001b[0m\u001b[0m\n\u001b[1;32m   1304\u001b[0m         return_value = get_return_value(\n\u001b[0;32m-> 1305\u001b[0;31m             answer, self.gateway_client, self.target_id, self.name)\n\u001b[0m\u001b[1;32m   1306\u001b[0m \u001b[0;34m\u001b[0m\u001b[0m\n\u001b[1;32m   1307\u001b[0m         \u001b[0;32mfor\u001b[0m \u001b[0mtemp_arg\u001b[0m \u001b[0;32min\u001b[0m \u001b[0mtemp_args\u001b[0m\u001b[0;34m:\u001b[0m\u001b[0;34m\u001b[0m\u001b[0;34m\u001b[0m\u001b[0m\n",
            "\u001b[0;32m/usr/local/lib/python3.7/dist-packages/pyspark/sql/utils.py\u001b[0m in \u001b[0;36mdeco\u001b[0;34m(*a, **kw)\u001b[0m\n\u001b[1;32m    132\u001b[0m                 \u001b[0;31m# Hide where the exception came from that shows a non-Pythonic\u001b[0m\u001b[0;34m\u001b[0m\u001b[0;34m\u001b[0m\u001b[0;34m\u001b[0m\u001b[0m\n\u001b[1;32m    133\u001b[0m                 \u001b[0;31m# JVM exception message.\u001b[0m\u001b[0;34m\u001b[0m\u001b[0;34m\u001b[0m\u001b[0;34m\u001b[0m\u001b[0m\n\u001b[0;32m--> 134\u001b[0;31m                 \u001b[0mraise_from\u001b[0m\u001b[0;34m(\u001b[0m\u001b[0mconverted\u001b[0m\u001b[0;34m)\u001b[0m\u001b[0;34m\u001b[0m\u001b[0;34m\u001b[0m\u001b[0m\n\u001b[0m\u001b[1;32m    135\u001b[0m             \u001b[0;32melse\u001b[0m\u001b[0;34m:\u001b[0m\u001b[0;34m\u001b[0m\u001b[0;34m\u001b[0m\u001b[0m\n\u001b[1;32m    136\u001b[0m                 \u001b[0;32mraise\u001b[0m\u001b[0;34m\u001b[0m\u001b[0;34m\u001b[0m\u001b[0m\n",
            "\u001b[0;32m/usr/local/lib/python3.7/dist-packages/pyspark/sql/utils.py\u001b[0m in \u001b[0;36mraise_from\u001b[0;34m(e)\u001b[0m\n",
            "\u001b[0;31mAnalysisException\u001b[0m: Cannot resolve column name \"Count_median\" among (Country, sum(Count_median));"
          ]
        }
      ]
    },
    {
      "cell_type": "code",
      "metadata": {
        "colab": {
          "base_uri": "https://localhost:8080/",
          "height": 478
        },
        "id": "cMI9rPVs7hK-",
        "outputId": "44ab3dae-513b-4908-e430-c795bb4bebb2"
      },
      "source": [
        "# convert spark deathsByCountry to pandas\r\n",
        "pd_deathsByCountry = deathsByCountry.select(\"*\").toPandas()\r\n",
        "\r\n",
        "# The distribution of HIV death against WHO Region\r\n",
        "chart = sns.catplot(\r\n",
        "    data=pd_deathsByCountry,\r\n",
        "    x='WHO Region',\r\n",
        "    y='Count_median',\r\n",
        "    kind='box',\r\n",
        "    palette='Set1'\r\n",
        ")\r\n",
        "\r\n",
        "plt.xticks(\r\n",
        "    rotation=45, \r\n",
        "    horizontalalignment='right',\r\n",
        "    fontweight='light' \r\n",
        ")"
      ],
      "execution_count": null,
      "outputs": [
        {
          "output_type": "execute_result",
          "data": {
            "text/plain": [
              "(array([0, 1, 2, 3, 4, 5]), <a list of 6 Text major ticklabel objects>)"
            ]
          },
          "metadata": {
            "tags": []
          },
          "execution_count": 42
        },
        {
          "output_type": "display_data",
          "data": {
            "image/png": "[encoded data removed]",
            "text/plain": [
              "<Figure size 360x360 with 1 Axes>"
            ]
          },
          "metadata": {
            "tags": [],
            "needs_background": "light"
          }
        }
      ]
    },
    {
      "cell_type": "code",
      "metadata": {
        "colab": {
          "base_uri": "https://localhost:8080/",
          "height": 485
        },
        "id": "dLAuxxC38_Kw",
        "outputId": "55df3a0c-fd28-4b09-d4ac-a3e0518fae4c"
      },
      "source": [
        "# convert spark hivCasesByCountry_df to pandas\r\n",
        "pd_artCoverageByCountry_df = artCoverageByCountry_df.select(\"*\").toPandas()\r\n",
        "\r\n",
        "# The distribution of %ART coverage against WHO Region\r\n",
        "chart = sns.catplot(\r\n",
        "    data=pd_artCoverageByCountry_df,\r\n",
        "    x='WHO Region',\r\n",
        "    y='Estimated ART coverage among people living with HIV (%)_median',\r\n",
        "    kind='box',\r\n",
        "    palette='Set1'\r\n",
        ")\r\n",
        "\r\n",
        "plt.xticks(\r\n",
        "    rotation=45, \r\n",
        "    horizontalalignment='right',\r\n",
        "    fontweight='light' \r\n",
        ")"
      ],
      "execution_count": null,
      "outputs": [
        {
          "output_type": "execute_result",
          "data": {
            "text/plain": [
              "(array([0, 1, 2, 3, 4, 5]), <a list of 6 Text major ticklabel objects>)"
            ]
          },
          "metadata": {
            "tags": []
          },
          "execution_count": 43
        },
        {
          "output_type": "display_data",
          "data": {
            "image/png": "[encoded data removed]",
            "text/plain": [
              "<Figure size 360x360 with 1 Axes>"
            ]
          },
          "metadata": {
            "tags": [],
            "needs_background": "light"
          }
        }
      ]
    },
    {
      "cell_type": "markdown",
      "metadata": {
        "id": "eFbDsAOlNidz"
      },
      "source": [
        "# Feature Engineering"
      ]
    },
    {
      "cell_type": "code",
      "metadata": {
        "id": "qXncPEha1gYq"
      },
      "source": [
        "# Print mean, standard deviation, min and max for each of the numerical features in the dataset.\r\n",
        "maxs = pd_hivCasesByCountry_df[['Count_median','Count_min','Count_max']].apply(np.max,axis=0)\r\n",
        "mins = pd_hivCasesByCountry_df[['Count_median','Count_min','Count_max']].apply(np.max,axis=0)\r\n",
        "stds = pd_hivCasesByCountry_df[['Count_median','Count_min','Count_max']].apply(np.max,axis=0)\r\n",
        "means = pd_hivCasesByCountry_df[['Count_median','Count_min','Count_max']].apply(np.max,axis=0)"
      ],
      "execution_count": null,
      "outputs": []
    },
    {
      "cell_type": "code",
      "metadata": {
        "id": "GN0F7kQNN7x_"
      },
      "source": [
        "# Rescale the HIV Case number to log scale (base e)\r\n",
        "def rescale(num):\r\n",
        "  return num+1\r\n",
        "pd_artCoverageByCountry_df['HIVCase'] = pd_artCoverageByCountry_df['Estimated number of people living with HIV_median'].apply(rescale).apply(np.log)"
      ],
      "execution_count": null,
      "outputs": []
    },
    {
      "cell_type": "code",
      "metadata": {
        "colab": {
          "base_uri": "https://localhost:8080/",
          "height": 350
        },
        "id": "031FBCmoSt8u",
        "outputId": "bb8c2d92-e87f-4cfc-caa8-d297017521d5"
      },
      "source": [
        "# plot the distribution\r\n",
        "sns.distplot(pd_artCoverageByCountry_df['HIVCase'])\r\n"
      ],
      "execution_count": null,
      "outputs": [
        {
          "output_type": "stream",
          "text": [
            "/usr/local/lib/python3.7/dist-packages/seaborn/distributions.py:2557: FutureWarning: `distplot` is a deprecated function and will be removed in a future version. Please adapt your code to use either `displot` (a figure-level function with similar flexibility) or `histplot` (an axes-level function for histograms).\n",
            "  warnings.warn(msg, FutureWarning)\n"
          ],
          "name": "stderr"
        },
        {
          "output_type": "execute_result",
          "data": {
            "text/plain": [
              "<matplotlib.axes._subplots.AxesSubplot at 0x7f819cc1fd10>"
            ]
          },
          "metadata": {
            "tags": []
          },
          "execution_count": 46
        },
        {
          "output_type": "display_data",
          "data": {
            "image/png": "[encoded data removed]",
            "text/plain": [
              "<Figure size 432x288 with 1 Axes>"
            ]
          },
          "metadata": {
            "tags": [],
            "needs_background": "light"
          }
        }
      ]
    },
    {
      "cell_type": "markdown",
      "metadata": {
        "id": "brRf_vYkuDgK"
      },
      "source": [
        "# Model"
      ]
    },
    {
      "cell_type": "markdown",
      "metadata": {
        "id": "aQihOow1CP5f"
      },
      "source": [
        "Set up training and test data"
      ]
    },
    {
      "cell_type": "code",
      "metadata": {
        "id": "gqsBvqWpTDxo"
      },
      "source": [
        "# split data into x and y\r\n",
        "label = pd_hivCasesByCountry_df['Country']\r\n",
        "featues =pd_hivCasesByCountry_df.drop(['Year'], axis=1)"
      ],
      "execution_count": null,
      "outputs": []
    },
    {
      "cell_type": "code",
      "metadata": {
        "id": "H2fK95LoCPSp"
      },
      "source": [
        "# split data into train and test\r\n",
        "from sklearn.model_selection import train_test_split\r\n",
        "\r\n",
        "\r\n",
        "x_train, x_test, y_train, y_test = train_test_split(featues, label, test_size = 0.2)\r\n"
      ],
      "execution_count": null,
      "outputs": []
    },
    {
      "cell_type": "markdown",
      "metadata": {
        "id": "ystaSDcmHYm7"
      },
      "source": [
        "Linear Regression"
      ]
    },
    {
      "cell_type": "code",
      "metadata": {
        "id": "8kw9GviAImpY",
        "colab": {
          "base_uri": "https://localhost:8080/",
          "height": 370
        },
        "outputId": "8527619c-582d-460f-d961-29ba3ec4ba81"
      },
      "source": [
        "from sklearn.linear_model import LinearRegression\r\n",
        "from sklearn.metrics import mean_squared_error\r\n",
        "from sklearn.metrics import accuracy_score, mean_absolute_error, mean_squared_error\r\n",
        "\r\n",
        "lr = LinearRegression()\r\n",
        "lr.fit(x_train, y_train)\r\n",
        "\r\n",
        "y_pred = lr.predict(x_test)\r\n",
        "\r\n",
        "print(\"Score:\", lr.score(x_test, y_test))\r\n",
        "plt.figure(dpi=100)\r\n",
        "plt.scatter(y_test, y_pred)\r\n",
        "\r\n",
        "# Different error measures\r\n",
        "print(\"MAE:\", mean_absolute_error(y_test, y_pred))\r\n",
        "print('MSE:', mean_squared_error(y_test, y_pred))\r\n",
        "print('RMSE:', np.sqrt(mean_squared_error(y_test, y_pred)))"
      ],
      "execution_count": null,
      "outputs": [
        {
          "output_type": "error",
          "ename": "ValueError",
          "evalue": "ignored",
          "traceback": [
            "\u001b[0;31m---------------------------------------------------------------------------\u001b[0m",
            "\u001b[0;31mValueError\u001b[0m                                Traceback (most recent call last)",
            "\u001b[0;32m<ipython-input-51-ebb14e4f81fd>\u001b[0m in \u001b[0;36m<module>\u001b[0;34m()\u001b[0m\n\u001b[1;32m      4\u001b[0m \u001b[0;34m\u001b[0m\u001b[0m\n\u001b[1;32m      5\u001b[0m \u001b[0mlr\u001b[0m \u001b[0;34m=\u001b[0m \u001b[0mLinearRegression\u001b[0m\u001b[0;34m(\u001b[0m\u001b[0;34m)\u001b[0m\u001b[0;34m\u001b[0m\u001b[0;34m\u001b[0m\u001b[0m\n\u001b[0;32m----> 6\u001b[0;31m \u001b[0mlr\u001b[0m\u001b[0;34m.\u001b[0m\u001b[0mfit\u001b[0m\u001b[0;34m(\u001b[0m\u001b[0mx_train\u001b[0m\u001b[0;34m,\u001b[0m \u001b[0my_train\u001b[0m\u001b[0;34m)\u001b[0m\u001b[0;34m\u001b[0m\u001b[0;34m\u001b[0m\u001b[0m\n\u001b[0m\u001b[1;32m      7\u001b[0m \u001b[0;34m\u001b[0m\u001b[0m\n\u001b[1;32m      8\u001b[0m \u001b[0my_pred\u001b[0m \u001b[0;34m=\u001b[0m \u001b[0mlr\u001b[0m\u001b[0;34m.\u001b[0m\u001b[0mpredict\u001b[0m\u001b[0;34m(\u001b[0m\u001b[0mx_test\u001b[0m\u001b[0;34m)\u001b[0m\u001b[0;34m\u001b[0m\u001b[0;34m\u001b[0m\u001b[0m\n",
            "\u001b[0;32m/usr/local/lib/python3.7/dist-packages/sklearn/linear_model/_base.py\u001b[0m in \u001b[0;36mfit\u001b[0;34m(self, X, y, sample_weight)\u001b[0m\n\u001b[1;32m    490\u001b[0m         \u001b[0mn_jobs_\u001b[0m \u001b[0;34m=\u001b[0m \u001b[0mself\u001b[0m\u001b[0;34m.\u001b[0m\u001b[0mn_jobs\u001b[0m\u001b[0;34m\u001b[0m\u001b[0;34m\u001b[0m\u001b[0m\n\u001b[1;32m    491\u001b[0m         X, y = check_X_y(X, y, accept_sparse=['csr', 'csc', 'coo'],\n\u001b[0;32m--> 492\u001b[0;31m                          y_numeric=True, multi_output=True)\n\u001b[0m\u001b[1;32m    493\u001b[0m \u001b[0;34m\u001b[0m\u001b[0m\n\u001b[1;32m    494\u001b[0m         \u001b[0;32mif\u001b[0m \u001b[0msample_weight\u001b[0m \u001b[0;32mis\u001b[0m \u001b[0;32mnot\u001b[0m \u001b[0;32mNone\u001b[0m\u001b[0;34m:\u001b[0m\u001b[0;34m\u001b[0m\u001b[0;34m\u001b[0m\u001b[0m\n",
            "\u001b[0;32m/usr/local/lib/python3.7/dist-packages/sklearn/utils/validation.py\u001b[0m in \u001b[0;36mcheck_X_y\u001b[0;34m(X, y, accept_sparse, accept_large_sparse, dtype, order, copy, force_all_finite, ensure_2d, allow_nd, multi_output, ensure_min_samples, ensure_min_features, y_numeric, warn_on_dtype, estimator)\u001b[0m\n\u001b[1;32m    753\u001b[0m                     \u001b[0mensure_min_features\u001b[0m\u001b[0;34m=\u001b[0m\u001b[0mensure_min_features\u001b[0m\u001b[0;34m,\u001b[0m\u001b[0;34m\u001b[0m\u001b[0;34m\u001b[0m\u001b[0m\n\u001b[1;32m    754\u001b[0m                     \u001b[0mwarn_on_dtype\u001b[0m\u001b[0;34m=\u001b[0m\u001b[0mwarn_on_dtype\u001b[0m\u001b[0;34m,\u001b[0m\u001b[0;34m\u001b[0m\u001b[0;34m\u001b[0m\u001b[0m\n\u001b[0;32m--> 755\u001b[0;31m                     estimator=estimator)\n\u001b[0m\u001b[1;32m    756\u001b[0m     \u001b[0;32mif\u001b[0m \u001b[0mmulti_output\u001b[0m\u001b[0;34m:\u001b[0m\u001b[0;34m\u001b[0m\u001b[0;34m\u001b[0m\u001b[0m\n\u001b[1;32m    757\u001b[0m         y = check_array(y, 'csr', force_all_finite=True, ensure_2d=False,\n",
            "\u001b[0;32m/usr/local/lib/python3.7/dist-packages/sklearn/utils/validation.py\u001b[0m in \u001b[0;36mcheck_array\u001b[0;34m(array, accept_sparse, accept_large_sparse, dtype, order, copy, force_all_finite, ensure_2d, allow_nd, ensure_min_samples, ensure_min_features, warn_on_dtype, estimator)\u001b[0m\n\u001b[1;32m    529\u001b[0m                     \u001b[0marray\u001b[0m \u001b[0;34m=\u001b[0m \u001b[0marray\u001b[0m\u001b[0;34m.\u001b[0m\u001b[0mastype\u001b[0m\u001b[0;34m(\u001b[0m\u001b[0mdtype\u001b[0m\u001b[0;34m,\u001b[0m \u001b[0mcasting\u001b[0m\u001b[0;34m=\u001b[0m\u001b[0;34m\"unsafe\"\u001b[0m\u001b[0;34m,\u001b[0m \u001b[0mcopy\u001b[0m\u001b[0;34m=\u001b[0m\u001b[0;32mFalse\u001b[0m\u001b[0;34m)\u001b[0m\u001b[0;34m\u001b[0m\u001b[0;34m\u001b[0m\u001b[0m\n\u001b[1;32m    530\u001b[0m                 \u001b[0;32melse\u001b[0m\u001b[0;34m:\u001b[0m\u001b[0;34m\u001b[0m\u001b[0;34m\u001b[0m\u001b[0m\n\u001b[0;32m--> 531\u001b[0;31m                     \u001b[0marray\u001b[0m \u001b[0;34m=\u001b[0m \u001b[0mnp\u001b[0m\u001b[0;34m.\u001b[0m\u001b[0masarray\u001b[0m\u001b[0;34m(\u001b[0m\u001b[0marray\u001b[0m\u001b[0;34m,\u001b[0m \u001b[0morder\u001b[0m\u001b[0;34m=\u001b[0m\u001b[0morder\u001b[0m\u001b[0;34m,\u001b[0m \u001b[0mdtype\u001b[0m\u001b[0;34m=\u001b[0m\u001b[0mdtype\u001b[0m\u001b[0;34m)\u001b[0m\u001b[0;34m\u001b[0m\u001b[0;34m\u001b[0m\u001b[0m\n\u001b[0m\u001b[1;32m    532\u001b[0m             \u001b[0;32mexcept\u001b[0m \u001b[0mComplexWarning\u001b[0m\u001b[0;34m:\u001b[0m\u001b[0;34m\u001b[0m\u001b[0;34m\u001b[0m\u001b[0m\n\u001b[1;32m    533\u001b[0m                 raise ValueError(\"Complex data not supported\\n\"\n",
            "\u001b[0;32m/usr/local/lib/python3.7/dist-packages/numpy/core/_asarray.py\u001b[0m in \u001b[0;36masarray\u001b[0;34m(a, dtype, order)\u001b[0m\n\u001b[1;32m     81\u001b[0m \u001b[0;34m\u001b[0m\u001b[0m\n\u001b[1;32m     82\u001b[0m     \"\"\"\n\u001b[0;32m---> 83\u001b[0;31m     \u001b[0;32mreturn\u001b[0m \u001b[0marray\u001b[0m\u001b[0;34m(\u001b[0m\u001b[0ma\u001b[0m\u001b[0;34m,\u001b[0m \u001b[0mdtype\u001b[0m\u001b[0;34m,\u001b[0m \u001b[0mcopy\u001b[0m\u001b[0;34m=\u001b[0m\u001b[0;32mFalse\u001b[0m\u001b[0;34m,\u001b[0m \u001b[0morder\u001b[0m\u001b[0;34m=\u001b[0m\u001b[0morder\u001b[0m\u001b[0;34m)\u001b[0m\u001b[0;34m\u001b[0m\u001b[0;34m\u001b[0m\u001b[0m\n\u001b[0m\u001b[1;32m     84\u001b[0m \u001b[0;34m\u001b[0m\u001b[0m\n\u001b[1;32m     85\u001b[0m \u001b[0;34m\u001b[0m\u001b[0m\n",
            "\u001b[0;32m/usr/local/lib/python3.7/dist-packages/pandas/core/generic.py\u001b[0m in \u001b[0;36m__array__\u001b[0;34m(self, dtype)\u001b[0m\n\u001b[1;32m   1779\u001b[0m \u001b[0;34m\u001b[0m\u001b[0m\n\u001b[1;32m   1780\u001b[0m     \u001b[0;32mdef\u001b[0m \u001b[0m__array__\u001b[0m\u001b[0;34m(\u001b[0m\u001b[0mself\u001b[0m\u001b[0;34m,\u001b[0m \u001b[0mdtype\u001b[0m\u001b[0;34m=\u001b[0m\u001b[0;32mNone\u001b[0m\u001b[0;34m)\u001b[0m \u001b[0;34m->\u001b[0m \u001b[0mnp\u001b[0m\u001b[0;34m.\u001b[0m\u001b[0mndarray\u001b[0m\u001b[0;34m:\u001b[0m\u001b[0;34m\u001b[0m\u001b[0;34m\u001b[0m\u001b[0m\n\u001b[0;32m-> 1781\u001b[0;31m         \u001b[0;32mreturn\u001b[0m \u001b[0mnp\u001b[0m\u001b[0;34m.\u001b[0m\u001b[0masarray\u001b[0m\u001b[0;34m(\u001b[0m\u001b[0mself\u001b[0m\u001b[0;34m.\u001b[0m\u001b[0m_values\u001b[0m\u001b[0;34m,\u001b[0m \u001b[0mdtype\u001b[0m\u001b[0;34m=\u001b[0m\u001b[0mdtype\u001b[0m\u001b[0;34m)\u001b[0m\u001b[0;34m\u001b[0m\u001b[0;34m\u001b[0m\u001b[0m\n\u001b[0m\u001b[1;32m   1782\u001b[0m \u001b[0;34m\u001b[0m\u001b[0m\n\u001b[1;32m   1783\u001b[0m     \u001b[0;32mdef\u001b[0m \u001b[0m__array_wrap__\u001b[0m\u001b[0;34m(\u001b[0m\u001b[0mself\u001b[0m\u001b[0;34m,\u001b[0m \u001b[0mresult\u001b[0m\u001b[0;34m,\u001b[0m \u001b[0mcontext\u001b[0m\u001b[0;34m=\u001b[0m\u001b[0;32mNone\u001b[0m\u001b[0;34m)\u001b[0m\u001b[0;34m:\u001b[0m\u001b[0;34m\u001b[0m\u001b[0;34m\u001b[0m\u001b[0m\n",
            "\u001b[0;32m/usr/local/lib/python3.7/dist-packages/numpy/core/_asarray.py\u001b[0m in \u001b[0;36masarray\u001b[0;34m(a, dtype, order)\u001b[0m\n\u001b[1;32m     81\u001b[0m \u001b[0;34m\u001b[0m\u001b[0m\n\u001b[1;32m     82\u001b[0m     \"\"\"\n\u001b[0;32m---> 83\u001b[0;31m     \u001b[0;32mreturn\u001b[0m \u001b[0marray\u001b[0m\u001b[0;34m(\u001b[0m\u001b[0ma\u001b[0m\u001b[0;34m,\u001b[0m \u001b[0mdtype\u001b[0m\u001b[0;34m,\u001b[0m \u001b[0mcopy\u001b[0m\u001b[0;34m=\u001b[0m\u001b[0;32mFalse\u001b[0m\u001b[0;34m,\u001b[0m \u001b[0morder\u001b[0m\u001b[0;34m=\u001b[0m\u001b[0morder\u001b[0m\u001b[0;34m)\u001b[0m\u001b[0;34m\u001b[0m\u001b[0;34m\u001b[0m\u001b[0m\n\u001b[0m\u001b[1;32m     84\u001b[0m \u001b[0;34m\u001b[0m\u001b[0m\n\u001b[1;32m     85\u001b[0m \u001b[0;34m\u001b[0m\u001b[0m\n",
            "\u001b[0;31mValueError\u001b[0m: could not convert string to float: 'Congo'"
          ]
        }
      ]
    },
    {
      "cell_type": "markdown",
      "metadata": {
        "id": "z8IklXqrePAS"
      },
      "source": [
        "Random Forest"
      ]
    },
    {
      "cell_type": "code",
      "metadata": {
        "colab": {
          "base_uri": "https://localhost:8080/",
          "height": 387
        },
        "id": "lVBHYNv0fofT",
        "outputId": "20c81021-3b8e-4e02-ca49-f6ee5dfcac93"
      },
      "source": [
        "from sklearn.ensemble import RandomForestClassifier\r\n",
        "clf = RandomForestClassifier(n_estimators = 20, max_depth=2)\r\n",
        "clf.fit(x_train, y_train)\r\n",
        "prediction = clf.predict(X_test)\r\n",
        "accuracy=sklearn.metrics.accuracy_score(prediction,y_test)\r\n",
        "print(\"Accuracy: \"% (accuracy*100))"
      ],
      "execution_count": null,
      "outputs": [
        {
          "output_type": "error",
          "ename": "ValueError",
          "evalue": "ignored",
          "traceback": [
            "\u001b[0;31m---------------------------------------------------------------------------\u001b[0m",
            "\u001b[0;31mValueError\u001b[0m                                Traceback (most recent call last)",
            "\u001b[0;32m<ipython-input-55-69f1b09bd9f6>\u001b[0m in \u001b[0;36m<module>\u001b[0;34m()\u001b[0m\n\u001b[1;32m      1\u001b[0m \u001b[0;32mfrom\u001b[0m \u001b[0msklearn\u001b[0m\u001b[0;34m.\u001b[0m\u001b[0mensemble\u001b[0m \u001b[0;32mimport\u001b[0m \u001b[0mRandomForestClassifier\u001b[0m\u001b[0;34m\u001b[0m\u001b[0;34m\u001b[0m\u001b[0m\n\u001b[1;32m      2\u001b[0m \u001b[0mclf\u001b[0m \u001b[0;34m=\u001b[0m \u001b[0mRandomForestClassifier\u001b[0m\u001b[0;34m(\u001b[0m\u001b[0mn_estimators\u001b[0m \u001b[0;34m=\u001b[0m \u001b[0;36m20\u001b[0m\u001b[0;34m,\u001b[0m \u001b[0mmax_depth\u001b[0m\u001b[0;34m=\u001b[0m\u001b[0;36m2\u001b[0m\u001b[0;34m)\u001b[0m\u001b[0;34m\u001b[0m\u001b[0;34m\u001b[0m\u001b[0m\n\u001b[0;32m----> 3\u001b[0;31m \u001b[0mclf\u001b[0m\u001b[0;34m.\u001b[0m\u001b[0mfit\u001b[0m\u001b[0;34m(\u001b[0m\u001b[0mx_train\u001b[0m\u001b[0;34m,\u001b[0m \u001b[0my_train\u001b[0m\u001b[0;34m)\u001b[0m\u001b[0;34m\u001b[0m\u001b[0;34m\u001b[0m\u001b[0m\n\u001b[0m\u001b[1;32m      4\u001b[0m \u001b[0mprediction\u001b[0m \u001b[0;34m=\u001b[0m \u001b[0mclf\u001b[0m\u001b[0;34m.\u001b[0m\u001b[0mpredict\u001b[0m\u001b[0;34m(\u001b[0m\u001b[0mX_test\u001b[0m\u001b[0;34m)\u001b[0m\u001b[0;34m\u001b[0m\u001b[0;34m\u001b[0m\u001b[0m\n\u001b[1;32m      5\u001b[0m \u001b[0maccuracy\u001b[0m\u001b[0;34m=\u001b[0m\u001b[0msklearn\u001b[0m\u001b[0;34m.\u001b[0m\u001b[0mmetrics\u001b[0m\u001b[0;34m.\u001b[0m\u001b[0maccuracy_score\u001b[0m\u001b[0;34m(\u001b[0m\u001b[0mprediction\u001b[0m\u001b[0;34m,\u001b[0m\u001b[0my_test\u001b[0m\u001b[0;34m)\u001b[0m\u001b[0;34m\u001b[0m\u001b[0;34m\u001b[0m\u001b[0m\n",
            "\u001b[0;32m/usr/local/lib/python3.7/dist-packages/sklearn/ensemble/_forest.py\u001b[0m in \u001b[0;36mfit\u001b[0;34m(self, X, y, sample_weight)\u001b[0m\n\u001b[1;32m    293\u001b[0m         \"\"\"\n\u001b[1;32m    294\u001b[0m         \u001b[0;31m# Validate or convert input data\u001b[0m\u001b[0;34m\u001b[0m\u001b[0;34m\u001b[0m\u001b[0;34m\u001b[0m\u001b[0m\n\u001b[0;32m--> 295\u001b[0;31m         \u001b[0mX\u001b[0m \u001b[0;34m=\u001b[0m \u001b[0mcheck_array\u001b[0m\u001b[0;34m(\u001b[0m\u001b[0mX\u001b[0m\u001b[0;34m,\u001b[0m \u001b[0maccept_sparse\u001b[0m\u001b[0;34m=\u001b[0m\u001b[0;34m\"csc\"\u001b[0m\u001b[0;34m,\u001b[0m \u001b[0mdtype\u001b[0m\u001b[0;34m=\u001b[0m\u001b[0mDTYPE\u001b[0m\u001b[0;34m)\u001b[0m\u001b[0;34m\u001b[0m\u001b[0;34m\u001b[0m\u001b[0m\n\u001b[0m\u001b[1;32m    296\u001b[0m         \u001b[0my\u001b[0m \u001b[0;34m=\u001b[0m \u001b[0mcheck_array\u001b[0m\u001b[0;34m(\u001b[0m\u001b[0my\u001b[0m\u001b[0;34m,\u001b[0m \u001b[0maccept_sparse\u001b[0m\u001b[0;34m=\u001b[0m\u001b[0;34m'csc'\u001b[0m\u001b[0;34m,\u001b[0m \u001b[0mensure_2d\u001b[0m\u001b[0;34m=\u001b[0m\u001b[0;32mFalse\u001b[0m\u001b[0;34m,\u001b[0m \u001b[0mdtype\u001b[0m\u001b[0;34m=\u001b[0m\u001b[0;32mNone\u001b[0m\u001b[0;34m)\u001b[0m\u001b[0;34m\u001b[0m\u001b[0;34m\u001b[0m\u001b[0m\n\u001b[1;32m    297\u001b[0m         \u001b[0;32mif\u001b[0m \u001b[0msample_weight\u001b[0m \u001b[0;32mis\u001b[0m \u001b[0;32mnot\u001b[0m \u001b[0;32mNone\u001b[0m\u001b[0;34m:\u001b[0m\u001b[0;34m\u001b[0m\u001b[0;34m\u001b[0m\u001b[0m\n",
            "\u001b[0;32m/usr/local/lib/python3.7/dist-packages/sklearn/utils/validation.py\u001b[0m in \u001b[0;36mcheck_array\u001b[0;34m(array, accept_sparse, accept_large_sparse, dtype, order, copy, force_all_finite, ensure_2d, allow_nd, ensure_min_samples, ensure_min_features, warn_on_dtype, estimator)\u001b[0m\n\u001b[1;32m    529\u001b[0m                     \u001b[0marray\u001b[0m \u001b[0;34m=\u001b[0m \u001b[0marray\u001b[0m\u001b[0;34m.\u001b[0m\u001b[0mastype\u001b[0m\u001b[0;34m(\u001b[0m\u001b[0mdtype\u001b[0m\u001b[0;34m,\u001b[0m \u001b[0mcasting\u001b[0m\u001b[0;34m=\u001b[0m\u001b[0;34m\"unsafe\"\u001b[0m\u001b[0;34m,\u001b[0m \u001b[0mcopy\u001b[0m\u001b[0;34m=\u001b[0m\u001b[0;32mFalse\u001b[0m\u001b[0;34m)\u001b[0m\u001b[0;34m\u001b[0m\u001b[0;34m\u001b[0m\u001b[0m\n\u001b[1;32m    530\u001b[0m                 \u001b[0;32melse\u001b[0m\u001b[0;34m:\u001b[0m\u001b[0;34m\u001b[0m\u001b[0;34m\u001b[0m\u001b[0m\n\u001b[0;32m--> 531\u001b[0;31m                     \u001b[0marray\u001b[0m \u001b[0;34m=\u001b[0m \u001b[0mnp\u001b[0m\u001b[0;34m.\u001b[0m\u001b[0masarray\u001b[0m\u001b[0;34m(\u001b[0m\u001b[0marray\u001b[0m\u001b[0;34m,\u001b[0m \u001b[0morder\u001b[0m\u001b[0;34m=\u001b[0m\u001b[0morder\u001b[0m\u001b[0;34m,\u001b[0m \u001b[0mdtype\u001b[0m\u001b[0;34m=\u001b[0m\u001b[0mdtype\u001b[0m\u001b[0;34m)\u001b[0m\u001b[0;34m\u001b[0m\u001b[0;34m\u001b[0m\u001b[0m\n\u001b[0m\u001b[1;32m    532\u001b[0m             \u001b[0;32mexcept\u001b[0m \u001b[0mComplexWarning\u001b[0m\u001b[0;34m:\u001b[0m\u001b[0;34m\u001b[0m\u001b[0;34m\u001b[0m\u001b[0m\n\u001b[1;32m    533\u001b[0m                 raise ValueError(\"Complex data not supported\\n\"\n",
            "\u001b[0;32m/usr/local/lib/python3.7/dist-packages/numpy/core/_asarray.py\u001b[0m in \u001b[0;36masarray\u001b[0;34m(a, dtype, order)\u001b[0m\n\u001b[1;32m     81\u001b[0m \u001b[0;34m\u001b[0m\u001b[0m\n\u001b[1;32m     82\u001b[0m     \"\"\"\n\u001b[0;32m---> 83\u001b[0;31m     \u001b[0;32mreturn\u001b[0m \u001b[0marray\u001b[0m\u001b[0;34m(\u001b[0m\u001b[0ma\u001b[0m\u001b[0;34m,\u001b[0m \u001b[0mdtype\u001b[0m\u001b[0;34m,\u001b[0m \u001b[0mcopy\u001b[0m\u001b[0;34m=\u001b[0m\u001b[0;32mFalse\u001b[0m\u001b[0;34m,\u001b[0m \u001b[0morder\u001b[0m\u001b[0;34m=\u001b[0m\u001b[0morder\u001b[0m\u001b[0;34m)\u001b[0m\u001b[0;34m\u001b[0m\u001b[0;34m\u001b[0m\u001b[0m\n\u001b[0m\u001b[1;32m     84\u001b[0m \u001b[0;34m\u001b[0m\u001b[0m\n\u001b[1;32m     85\u001b[0m \u001b[0;34m\u001b[0m\u001b[0m\n",
            "\u001b[0;32m/usr/local/lib/python3.7/dist-packages/pandas/core/generic.py\u001b[0m in \u001b[0;36m__array__\u001b[0;34m(self, dtype)\u001b[0m\n\u001b[1;32m   1779\u001b[0m \u001b[0;34m\u001b[0m\u001b[0m\n\u001b[1;32m   1780\u001b[0m     \u001b[0;32mdef\u001b[0m \u001b[0m__array__\u001b[0m\u001b[0;34m(\u001b[0m\u001b[0mself\u001b[0m\u001b[0;34m,\u001b[0m \u001b[0mdtype\u001b[0m\u001b[0;34m=\u001b[0m\u001b[0;32mNone\u001b[0m\u001b[0;34m)\u001b[0m \u001b[0;34m->\u001b[0m \u001b[0mnp\u001b[0m\u001b[0;34m.\u001b[0m\u001b[0mndarray\u001b[0m\u001b[0;34m:\u001b[0m\u001b[0;34m\u001b[0m\u001b[0;34m\u001b[0m\u001b[0m\n\u001b[0;32m-> 1781\u001b[0;31m         \u001b[0;32mreturn\u001b[0m \u001b[0mnp\u001b[0m\u001b[0;34m.\u001b[0m\u001b[0masarray\u001b[0m\u001b[0;34m(\u001b[0m\u001b[0mself\u001b[0m\u001b[0;34m.\u001b[0m\u001b[0m_values\u001b[0m\u001b[0;34m,\u001b[0m \u001b[0mdtype\u001b[0m\u001b[0;34m=\u001b[0m\u001b[0mdtype\u001b[0m\u001b[0;34m)\u001b[0m\u001b[0;34m\u001b[0m\u001b[0;34m\u001b[0m\u001b[0m\n\u001b[0m\u001b[1;32m   1782\u001b[0m \u001b[0;34m\u001b[0m\u001b[0m\n\u001b[1;32m   1783\u001b[0m     \u001b[0;32mdef\u001b[0m \u001b[0m__array_wrap__\u001b[0m\u001b[0;34m(\u001b[0m\u001b[0mself\u001b[0m\u001b[0;34m,\u001b[0m \u001b[0mresult\u001b[0m\u001b[0;34m,\u001b[0m \u001b[0mcontext\u001b[0m\u001b[0;34m=\u001b[0m\u001b[0;32mNone\u001b[0m\u001b[0;34m)\u001b[0m\u001b[0;34m:\u001b[0m\u001b[0;34m\u001b[0m\u001b[0;34m\u001b[0m\u001b[0m\n",
            "\u001b[0;32m/usr/local/lib/python3.7/dist-packages/numpy/core/_asarray.py\u001b[0m in \u001b[0;36masarray\u001b[0;34m(a, dtype, order)\u001b[0m\n\u001b[1;32m     81\u001b[0m \u001b[0;34m\u001b[0m\u001b[0m\n\u001b[1;32m     82\u001b[0m     \"\"\"\n\u001b[0;32m---> 83\u001b[0;31m     \u001b[0;32mreturn\u001b[0m \u001b[0marray\u001b[0m\u001b[0;34m(\u001b[0m\u001b[0ma\u001b[0m\u001b[0;34m,\u001b[0m \u001b[0mdtype\u001b[0m\u001b[0;34m,\u001b[0m \u001b[0mcopy\u001b[0m\u001b[0;34m=\u001b[0m\u001b[0;32mFalse\u001b[0m\u001b[0;34m,\u001b[0m \u001b[0morder\u001b[0m\u001b[0;34m=\u001b[0m\u001b[0morder\u001b[0m\u001b[0;34m)\u001b[0m\u001b[0;34m\u001b[0m\u001b[0;34m\u001b[0m\u001b[0m\n\u001b[0m\u001b[1;32m     84\u001b[0m \u001b[0;34m\u001b[0m\u001b[0m\n\u001b[1;32m     85\u001b[0m \u001b[0;34m\u001b[0m\u001b[0m\n",
            "\u001b[0;31mValueError\u001b[0m: could not convert string to float: 'Congo'"
          ]
        }
      ]
    },
    {
      "cell_type": "markdown",
      "metadata": {
        "id": "Lvbowz7vilLR"
      },
      "source": [
        "PCA"
      ]
    },
    {
      "cell_type": "code",
      "metadata": {
        "colab": {
          "base_uri": "https://localhost:8080/",
          "height": 606
        },
        "id": "ms__RLoFlz-T",
        "outputId": "4d88f6cf-a37c-4c11-ac70-524c0f7ef42f"
      },
      "source": [
        "pd_hivCasesByCountry_df"
      ],
      "execution_count": null,
      "outputs": [
        {
          "output_type": "execute_result",
          "data": {
            "text/html": [
              "<div>\n",
              "<style scoped>\n",
              "    .dataframe tbody tr th:only-of-type {\n",
              "        vertical-align: middle;\n",
              "    }\n",
              "\n",
              "    .dataframe tbody tr th {\n",
              "        vertical-align: top;\n",
              "    }\n",
              "\n",
              "    .dataframe thead th {\n",
              "        text-align: right;\n",
              "    }\n",
              "</style>\n",
              "<table border=\"1\" class=\"dataframe\">\n",
              "  <thead>\n",
              "    <tr style=\"text-align: right;\">\n",
              "      <th></th>\n",
              "      <th>Country</th>\n",
              "      <th>Year</th>\n",
              "      <th>Count</th>\n",
              "      <th>Count_median</th>\n",
              "      <th>Count_min</th>\n",
              "      <th>Count_max</th>\n",
              "      <th>WHO Region</th>\n",
              "    </tr>\n",
              "  </thead>\n",
              "  <tbody>\n",
              "    <tr>\n",
              "      <th>0</th>\n",
              "      <td>Afghanistan</td>\n",
              "      <td>2018.0</td>\n",
              "      <td>7200[4100–11000]</td>\n",
              "      <td>7200.0</td>\n",
              "      <td>4100.0</td>\n",
              "      <td>11000.0</td>\n",
              "      <td>Eastern Mediterranean</td>\n",
              "    </tr>\n",
              "    <tr>\n",
              "      <th>1</th>\n",
              "      <td>Albania</td>\n",
              "      <td>2018.0</td>\n",
              "      <td>na</td>\n",
              "      <td>NaN</td>\n",
              "      <td>NaN</td>\n",
              "      <td>NaN</td>\n",
              "      <td>Europe</td>\n",
              "    </tr>\n",
              "    <tr>\n",
              "      <th>2</th>\n",
              "      <td>Algeria</td>\n",
              "      <td>2018.0</td>\n",
              "      <td>16000[15000–17000]</td>\n",
              "      <td>16000.0</td>\n",
              "      <td>15000.0</td>\n",
              "      <td>17000.0</td>\n",
              "      <td>Africa</td>\n",
              "    </tr>\n",
              "    <tr>\n",
              "      <th>3</th>\n",
              "      <td>Angola</td>\n",
              "      <td>2018.0</td>\n",
              "      <td>330000[290000–390000]</td>\n",
              "      <td>330000.0</td>\n",
              "      <td>290000.0</td>\n",
              "      <td>390000.0</td>\n",
              "      <td>Africa</td>\n",
              "    </tr>\n",
              "    <tr>\n",
              "      <th>4</th>\n",
              "      <td>Argentina</td>\n",
              "      <td>2018.0</td>\n",
              "      <td>140000[130000–150000]</td>\n",
              "      <td>140000.0</td>\n",
              "      <td>130000.0</td>\n",
              "      <td>150000.0</td>\n",
              "      <td>Americas</td>\n",
              "    </tr>\n",
              "    <tr>\n",
              "      <th>...</th>\n",
              "      <td>...</td>\n",
              "      <td>...</td>\n",
              "      <td>...</td>\n",
              "      <td>...</td>\n",
              "      <td>...</td>\n",
              "      <td>...</td>\n",
              "      <td>...</td>\n",
              "    </tr>\n",
              "    <tr>\n",
              "      <th>675</th>\n",
              "      <td>Venezuela (Bolivarian Republic of)</td>\n",
              "      <td>2000.0</td>\n",
              "      <td>na</td>\n",
              "      <td>NaN</td>\n",
              "      <td>NaN</td>\n",
              "      <td>NaN</td>\n",
              "      <td>Americas</td>\n",
              "    </tr>\n",
              "    <tr>\n",
              "      <th>676</th>\n",
              "      <td>Viet Nam</td>\n",
              "      <td>2000.0</td>\n",
              "      <td>120000[110000–130000]</td>\n",
              "      <td>120000.0</td>\n",
              "      <td>110000.0</td>\n",
              "      <td>130000.0</td>\n",
              "      <td>Western Pacific</td>\n",
              "    </tr>\n",
              "    <tr>\n",
              "      <th>677</th>\n",
              "      <td>Yemen</td>\n",
              "      <td>2000.0</td>\n",
              "      <td>1100[680–2500]</td>\n",
              "      <td>1100.0</td>\n",
              "      <td>680.0</td>\n",
              "      <td>2500.0</td>\n",
              "      <td>Eastern Mediterranean</td>\n",
              "    </tr>\n",
              "    <tr>\n",
              "      <th>678</th>\n",
              "      <td>Zambia</td>\n",
              "      <td>2000.0</td>\n",
              "      <td>890000[800000–1000000]</td>\n",
              "      <td>890000.0</td>\n",
              "      <td>800000.0</td>\n",
              "      <td>1000000.0</td>\n",
              "      <td>Africa</td>\n",
              "    </tr>\n",
              "    <tr>\n",
              "      <th>679</th>\n",
              "      <td>Zimbabwe</td>\n",
              "      <td>2000.0</td>\n",
              "      <td>1600000[1400000–1900000]</td>\n",
              "      <td>1600000.0</td>\n",
              "      <td>1400000.0</td>\n",
              "      <td>1900000.0</td>\n",
              "      <td>Africa</td>\n",
              "    </tr>\n",
              "  </tbody>\n",
              "</table>\n",
              "<p>680 rows × 7 columns</p>\n",
              "</div>"
            ],
            "text/plain": [
              "                                Country  ...             WHO Region\n",
              "0                           Afghanistan  ...  Eastern Mediterranean\n",
              "1                               Albania  ...                 Europe\n",
              "2                               Algeria  ...                 Africa\n",
              "3                                Angola  ...                 Africa\n",
              "4                             Argentina  ...               Americas\n",
              "..                                  ...  ...                    ...\n",
              "675  Venezuela (Bolivarian Republic of)  ...               Americas\n",
              "676                            Viet Nam  ...        Western Pacific\n",
              "677                               Yemen  ...  Eastern Mediterranean\n",
              "678                              Zambia  ...                 Africa\n",
              "679                            Zimbabwe  ...                 Africa\n",
              "\n",
              "[680 rows x 7 columns]"
            ]
          },
          "metadata": {
            "tags": []
          },
          "execution_count": 57
        }
      ]
    },
    {
      "cell_type": "code",
      "metadata": {
        "colab": {
          "base_uri": "https://localhost:8080/",
          "height": 195
        },
        "id": "QwcxDl0zimnc",
        "outputId": "07992eb6-d180-49ca-cb10-7f8b6bef3bbb"
      },
      "source": [
        "from sklearn import linear_model\r\n",
        "from sklearn.metrics import mean_squared_error, r2_score\r\n",
        "from sklearn.model_selection import train_test_split\r\n",
        "from sklearn.decomposition import PCA\r\n",
        "\r\n",
        "# the training data set X\r\n",
        "X = pd_hivCasesByCountry_df.drop(['Country','Year', 'WHO Region'], axis=1)\r\n",
        "# Labels are in a separate y vector\r\n",
        "y = pd_hivCasesByCountry_df['Year']\r\n",
        "\r\n",
        "# Split 80% of data to train the supervised classifer\r\n",
        "# and 20% to test on\r\n",
        "x_train, x_test, y_train, y_test = train_test_split(x, y, test_size=0.20, random_state=50)\r\n",
        "# Fit the PCA on the training data\r\n",
        "pca = PCA(n_components=1)\r\n",
        "X_train_2 = pca.fit_transform(x_train)\r\n",
        "\r\n",
        "regr = linear_model.LinearReg"
      ],
      "execution_count": null,
      "outputs": [
        {
          "output_type": "error",
          "ename": "AttributeError",
          "evalue": "ignored",
          "traceback": [
            "\u001b[0;31m---------------------------------------------------------------------------\u001b[0m",
            "\u001b[0;31mAttributeError\u001b[0m                            Traceback (most recent call last)",
            "\u001b[0;32m<ipython-input-61-39ae29a95bce>\u001b[0m in \u001b[0;36m<module>\u001b[0;34m()\u001b[0m\n\u001b[1;32m     16\u001b[0m \u001b[0mX_train_2\u001b[0m \u001b[0;34m=\u001b[0m \u001b[0mpca\u001b[0m\u001b[0;34m.\u001b[0m\u001b[0mfit_transform\u001b[0m\u001b[0;34m(\u001b[0m\u001b[0mx_train\u001b[0m\u001b[0;34m)\u001b[0m\u001b[0;34m\u001b[0m\u001b[0;34m\u001b[0m\u001b[0m\n\u001b[1;32m     17\u001b[0m \u001b[0;34m\u001b[0m\u001b[0m\n\u001b[0;32m---> 18\u001b[0;31m \u001b[0mregr\u001b[0m \u001b[0;34m=\u001b[0m \u001b[0mlinear_model\u001b[0m\u001b[0;34m.\u001b[0m\u001b[0mLinearReg\u001b[0m\u001b[0;34m\u001b[0m\u001b[0;34m\u001b[0m\u001b[0m\n\u001b[0m",
            "\u001b[0;31mAttributeError\u001b[0m: module 'sklearn.linear_model' has no attribute 'LinearReg'"
          ]
        }
      ]
    }
  ]
}